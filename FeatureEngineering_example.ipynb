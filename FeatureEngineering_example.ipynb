{
 "cells": [
  {
   "cell_type": "code",
   "execution_count": 2,
   "metadata": {
    "ExecuteTime": {
     "end_time": "2020-11-02T22:39:10.477997Z",
     "start_time": "2020-11-02T22:39:06.221556Z"
    }
   },
   "outputs": [],
   "source": [
    "import datetime\n",
    "import numpy as np\n",
    "import pandas as pd\n",
    "import matplotlib.pyplot as plt\n",
    "from collections import defaultdict\n",
    "from sklearn.preprocessing import OrdinalEncoder\n",
    "\n",
    "pd.options.display.max_columns = 50\n",
    "pd.options.mode.chained_assignment = None\n",
    "%matplotlib inline"
   ]
  },
  {
   "cell_type": "code",
   "execution_count": 3,
   "metadata": {
    "ExecuteTime": {
     "end_time": "2020-11-02T22:39:13.447546Z",
     "start_time": "2020-11-02T22:39:10.479770Z"
    }
   },
   "outputs": [
    {
     "name": "stdout",
     "output_type": "stream",
     "text": [
      "(26046, 220)\n"
     ]
    },
    {
     "data": {
      "text/html": [
       "<div>\n",
       "<style scoped>\n",
       "    .dataframe tbody tr th:only-of-type {\n",
       "        vertical-align: middle;\n",
       "    }\n",
       "\n",
       "    .dataframe tbody tr th {\n",
       "        vertical-align: top;\n",
       "    }\n",
       "\n",
       "    .dataframe thead th {\n",
       "        text-align: right;\n",
       "    }\n",
       "</style>\n",
       "<table border=\"1\" class=\"dataframe\">\n",
       "  <thead>\n",
       "    <tr style=\"text-align: right;\">\n",
       "      <th></th>\n",
       "      <th>match_url</th>\n",
       "      <th>player1</th>\n",
       "      <th>player2</th>\n",
       "      <th>status</th>\n",
       "      <th>Surface</th>\n",
       "      <th>date</th>\n",
       "      <th>k1</th>\n",
       "      <th>k2</th>\n",
       "      <th>player1_win</th>\n",
       "      <th>round</th>\n",
       "      <th>match_duration_mnt</th>\n",
       "      <th>Location</th>\n",
       "      <th>duration_set1</th>\n",
       "      <th>duration_set2</th>\n",
       "      <th>duration_set3</th>\n",
       "      <th>duration_set4</th>\n",
       "      <th>duration_set5</th>\n",
       "      <th>aces_match_player1</th>\n",
       "      <th>aces_match_player2</th>\n",
       "      <th>double_faults_match_player1</th>\n",
       "      <th>double_faults_match_player2</th>\n",
       "      <th>first_serve_prc_match_player1</th>\n",
       "      <th>first_serve_prc_match_player2</th>\n",
       "      <th>first_serve_cnt_match_player1</th>\n",
       "      <th>first_serve_cnt_match_player2</th>\n",
       "      <th>...</th>\n",
       "      <th>receiver_points_won_set5_player1</th>\n",
       "      <th>receiver_points_won_set5_player2</th>\n",
       "      <th>score_set1_player1</th>\n",
       "      <th>score_set1_player2</th>\n",
       "      <th>score_set2_player1</th>\n",
       "      <th>score_set2_player2</th>\n",
       "      <th>score_set3_player1</th>\n",
       "      <th>score_set3_player2</th>\n",
       "      <th>score_set4_player1</th>\n",
       "      <th>score_set4_player2</th>\n",
       "      <th>score_set5_player1</th>\n",
       "      <th>score_set5_player2</th>\n",
       "      <th>tie_break_set1_player1</th>\n",
       "      <th>tie_break_set1_player2</th>\n",
       "      <th>tie_break_set2_player1</th>\n",
       "      <th>tie_break_set2_player2</th>\n",
       "      <th>tie_break_set3_player1</th>\n",
       "      <th>tie_break_set3_player2</th>\n",
       "      <th>tie_break_set4_player1</th>\n",
       "      <th>tie_break_set4_player2</th>\n",
       "      <th>tie_break_set5_player1</th>\n",
       "      <th>tie_break_set5_player2</th>\n",
       "      <th>score_sets</th>\n",
       "      <th>bp_saved_cnt_player1</th>\n",
       "      <th>bp_saved_cnt_player2</th>\n",
       "    </tr>\n",
       "  </thead>\n",
       "  <tbody>\n",
       "    <tr>\n",
       "      <th>0</th>\n",
       "      <td>https://www.sofascore.com/matosevic-querrey/bg...</td>\n",
       "      <td>Matosević M.</td>\n",
       "      <td>Querrey S.</td>\n",
       "      <td>Ended</td>\n",
       "      <td>Hardcourt outdoor</td>\n",
       "      <td>01 Jan 2014, 05:40</td>\n",
       "      <td>NaN</td>\n",
       "      <td>NaN</td>\n",
       "      <td>1</td>\n",
       "      <td>(R16)</td>\n",
       "      <td>NaN</td>\n",
       "      <td>NaN</td>\n",
       "      <td>NaN</td>\n",
       "      <td>NaN</td>\n",
       "      <td>NaN</td>\n",
       "      <td>NaN</td>\n",
       "      <td>NaN</td>\n",
       "      <td>NaN</td>\n",
       "      <td>NaN</td>\n",
       "      <td>NaN</td>\n",
       "      <td>NaN</td>\n",
       "      <td>NaN</td>\n",
       "      <td>NaN</td>\n",
       "      <td>NaN</td>\n",
       "      <td>NaN</td>\n",
       "      <td>...</td>\n",
       "      <td>NaN</td>\n",
       "      <td>NaN</td>\n",
       "      <td>5.0</td>\n",
       "      <td>7.0</td>\n",
       "      <td>7.0</td>\n",
       "      <td>6.0</td>\n",
       "      <td>6.0</td>\n",
       "      <td>4.0</td>\n",
       "      <td>NaN</td>\n",
       "      <td>NaN</td>\n",
       "      <td>NaN</td>\n",
       "      <td>NaN</td>\n",
       "      <td>NaN</td>\n",
       "      <td>NaN</td>\n",
       "      <td>NaN</td>\n",
       "      <td>NaN</td>\n",
       "      <td>NaN</td>\n",
       "      <td>NaN</td>\n",
       "      <td>NaN</td>\n",
       "      <td>NaN</td>\n",
       "      <td>NaN</td>\n",
       "      <td>NaN</td>\n",
       "      <td>NaN</td>\n",
       "      <td>NaN</td>\n",
       "      <td>NaN</td>\n",
       "    </tr>\n",
       "  </tbody>\n",
       "</table>\n",
       "<p>1 rows × 220 columns</p>\n",
       "</div>"
      ],
      "text/plain": [
       "                                           match_url       player1  \\\n",
       "0  https://www.sofascore.com/matosevic-querrey/bg...  Matosević M.   \n",
       "\n",
       "      player2 status            Surface                date  k1  k2  \\\n",
       "0  Querrey S.  Ended  Hardcourt outdoor  01 Jan 2014, 05:40 NaN NaN   \n",
       "\n",
       "   player1_win  round match_duration_mnt Location  duration_set1  \\\n",
       "0            1  (R16)                NaN      NaN            NaN   \n",
       "\n",
       "   duration_set2  duration_set3  duration_set4  duration_set5  \\\n",
       "0            NaN            NaN            NaN            NaN   \n",
       "\n",
       "   aces_match_player1  aces_match_player2  double_faults_match_player1  \\\n",
       "0                 NaN                 NaN                          NaN   \n",
       "\n",
       "   double_faults_match_player2  first_serve_prc_match_player1  \\\n",
       "0                          NaN                            NaN   \n",
       "\n",
       "   first_serve_prc_match_player2  first_serve_cnt_match_player1  \\\n",
       "0                            NaN                            NaN   \n",
       "\n",
       "   first_serve_cnt_match_player2  ...  receiver_points_won_set5_player1  \\\n",
       "0                            NaN  ...                               NaN   \n",
       "\n",
       "   receiver_points_won_set5_player2  score_set1_player1  score_set1_player2  \\\n",
       "0                               NaN                 5.0                 7.0   \n",
       "\n",
       "   score_set2_player1  score_set2_player2  score_set3_player1  \\\n",
       "0                 7.0                 6.0                 6.0   \n",
       "\n",
       "   score_set3_player2  score_set4_player1  score_set4_player2  \\\n",
       "0                 4.0                 NaN                 NaN   \n",
       "\n",
       "   score_set5_player1  score_set5_player2  tie_break_set1_player1  \\\n",
       "0                 NaN                 NaN                     NaN   \n",
       "\n",
       "   tie_break_set1_player2  tie_break_set2_player1  tie_break_set2_player2  \\\n",
       "0                     NaN                     NaN                     NaN   \n",
       "\n",
       "   tie_break_set3_player1  tie_break_set3_player2  tie_break_set4_player1  \\\n",
       "0                     NaN                     NaN                     NaN   \n",
       "\n",
       "   tie_break_set4_player2  tie_break_set5_player1  tie_break_set5_player2  \\\n",
       "0                     NaN                     NaN                     NaN   \n",
       "\n",
       "   score_sets  bp_saved_cnt_player1  bp_saved_cnt_player2  \n",
       "0         NaN                   NaN                   NaN  \n",
       "\n",
       "[1 rows x 220 columns]"
      ]
     },
     "execution_count": 3,
     "metadata": {},
     "output_type": "execute_result"
    }
   ],
   "source": [
    "df = pd.read_pickle('matches.pkl')\n",
    "\n",
    "print(df.shape)\n",
    "df.head(1)"
   ]
  },
  {
   "cell_type": "code",
   "execution_count": 4,
   "metadata": {},
   "outputs": [],
   "source": [
    "time = []\n",
    "date_fx = []\n",
    "months = {\"Jan\": 1, \"Feb\": 2, \"Mar\": 3,\n",
    "          \"Apr\": 4, \"May\": 5, \"Jun\": 6,\n",
    "          \"Jul\": 7, \"Aug\": 8, \"Sep\": 9,\n",
    "          \"Oct\": 10, \"Nov\": 11, \"Dec\": 12\n",
    "         }\n",
    "for date in df[\"date\"]:\n",
    "    mas = date.split()\n",
    "    date_fx.append(datetime.date(int(mas[2][:-1]), months[mas[1]], int(mas[0])))\n",
    "    podmas = mas[-1].split(\":\")\n",
    "    time.append(datetime.time(int(podmas[0]), int(podmas[1]), 0))\n",
    "df[\"time\"] = time\n",
    "df[\"date\"] = date_fx"
   ]
  },
  {
   "cell_type": "code",
   "execution_count": 7,
   "metadata": {},
   "outputs": [
    {
     "data": {
      "text/html": [
       "<div>\n",
       "<style scoped>\n",
       "    .dataframe tbody tr th:only-of-type {\n",
       "        vertical-align: middle;\n",
       "    }\n",
       "\n",
       "    .dataframe tbody tr th {\n",
       "        vertical-align: top;\n",
       "    }\n",
       "\n",
       "    .dataframe thead th {\n",
       "        text-align: right;\n",
       "    }\n",
       "</style>\n",
       "<table border=\"1\" class=\"dataframe\">\n",
       "  <thead>\n",
       "    <tr style=\"text-align: right;\">\n",
       "      <th></th>\n",
       "      <th></th>\n",
       "      <th></th>\n",
       "      <th>match_url</th>\n",
       "      <th>status</th>\n",
       "      <th>Surface</th>\n",
       "      <th>k1</th>\n",
       "      <th>k2</th>\n",
       "      <th>player1_win</th>\n",
       "      <th>round</th>\n",
       "      <th>match_duration_mnt</th>\n",
       "      <th>Location</th>\n",
       "      <th>duration_set1</th>\n",
       "      <th>duration_set2</th>\n",
       "      <th>duration_set3</th>\n",
       "      <th>duration_set4</th>\n",
       "      <th>duration_set5</th>\n",
       "      <th>aces_match_player1</th>\n",
       "      <th>aces_match_player2</th>\n",
       "      <th>double_faults_match_player1</th>\n",
       "      <th>double_faults_match_player2</th>\n",
       "      <th>first_serve_prc_match_player1</th>\n",
       "      <th>first_serve_prc_match_player2</th>\n",
       "      <th>first_serve_cnt_match_player1</th>\n",
       "      <th>first_serve_cnt_match_player2</th>\n",
       "      <th>second_serve_prc_match_player1</th>\n",
       "      <th>second_serve_prc_match_player2</th>\n",
       "      <th>second_serve_cnt_match_player1</th>\n",
       "      <th>...</th>\n",
       "      <th>receiver_points_won_set5_player2</th>\n",
       "      <th>score_set1_player1</th>\n",
       "      <th>score_set1_player2</th>\n",
       "      <th>score_set2_player1</th>\n",
       "      <th>score_set2_player2</th>\n",
       "      <th>score_set3_player1</th>\n",
       "      <th>score_set3_player2</th>\n",
       "      <th>score_set4_player1</th>\n",
       "      <th>score_set4_player2</th>\n",
       "      <th>score_set5_player1</th>\n",
       "      <th>score_set5_player2</th>\n",
       "      <th>tie_break_set1_player1</th>\n",
       "      <th>tie_break_set1_player2</th>\n",
       "      <th>tie_break_set2_player1</th>\n",
       "      <th>tie_break_set2_player2</th>\n",
       "      <th>tie_break_set3_player1</th>\n",
       "      <th>tie_break_set3_player2</th>\n",
       "      <th>tie_break_set4_player1</th>\n",
       "      <th>tie_break_set4_player2</th>\n",
       "      <th>tie_break_set5_player1</th>\n",
       "      <th>tie_break_set5_player2</th>\n",
       "      <th>score_sets</th>\n",
       "      <th>bp_saved_cnt_player1</th>\n",
       "      <th>bp_saved_cnt_player2</th>\n",
       "      <th>time</th>\n",
       "    </tr>\n",
       "    <tr>\n",
       "      <th>date</th>\n",
       "      <th>player1</th>\n",
       "      <th>player2</th>\n",
       "      <th></th>\n",
       "      <th></th>\n",
       "      <th></th>\n",
       "      <th></th>\n",
       "      <th></th>\n",
       "      <th></th>\n",
       "      <th></th>\n",
       "      <th></th>\n",
       "      <th></th>\n",
       "      <th></th>\n",
       "      <th></th>\n",
       "      <th></th>\n",
       "      <th></th>\n",
       "      <th></th>\n",
       "      <th></th>\n",
       "      <th></th>\n",
       "      <th></th>\n",
       "      <th></th>\n",
       "      <th></th>\n",
       "      <th></th>\n",
       "      <th></th>\n",
       "      <th></th>\n",
       "      <th></th>\n",
       "      <th></th>\n",
       "      <th></th>\n",
       "      <th></th>\n",
       "      <th></th>\n",
       "      <th></th>\n",
       "      <th></th>\n",
       "      <th></th>\n",
       "      <th></th>\n",
       "      <th></th>\n",
       "      <th></th>\n",
       "      <th></th>\n",
       "      <th></th>\n",
       "      <th></th>\n",
       "      <th></th>\n",
       "      <th></th>\n",
       "      <th></th>\n",
       "      <th></th>\n",
       "      <th></th>\n",
       "      <th></th>\n",
       "      <th></th>\n",
       "      <th></th>\n",
       "      <th></th>\n",
       "      <th></th>\n",
       "      <th></th>\n",
       "      <th></th>\n",
       "      <th></th>\n",
       "      <th></th>\n",
       "      <th></th>\n",
       "    </tr>\n",
       "  </thead>\n",
       "  <tbody>\n",
       "    <tr>\n",
       "      <th>2014-01-01</th>\n",
       "      <th>Matosević M.</th>\n",
       "      <th>Querrey S.</th>\n",
       "      <td>https://www.sofascore.com/matosevic-querrey/bg...</td>\n",
       "      <td>Ended</td>\n",
       "      <td>Hardcourt outdoor</td>\n",
       "      <td>NaN</td>\n",
       "      <td>NaN</td>\n",
       "      <td>1</td>\n",
       "      <td>(R16)</td>\n",
       "      <td>NaN</td>\n",
       "      <td>NaN</td>\n",
       "      <td>NaN</td>\n",
       "      <td>NaN</td>\n",
       "      <td>NaN</td>\n",
       "      <td>NaN</td>\n",
       "      <td>NaN</td>\n",
       "      <td>NaN</td>\n",
       "      <td>NaN</td>\n",
       "      <td>NaN</td>\n",
       "      <td>NaN</td>\n",
       "      <td>NaN</td>\n",
       "      <td>NaN</td>\n",
       "      <td>NaN</td>\n",
       "      <td>NaN</td>\n",
       "      <td>NaN</td>\n",
       "      <td>NaN</td>\n",
       "      <td>NaN</td>\n",
       "      <td>...</td>\n",
       "      <td>NaN</td>\n",
       "      <td>5.0</td>\n",
       "      <td>7.0</td>\n",
       "      <td>7.0</td>\n",
       "      <td>6.0</td>\n",
       "      <td>6.0</td>\n",
       "      <td>4.0</td>\n",
       "      <td>NaN</td>\n",
       "      <td>NaN</td>\n",
       "      <td>NaN</td>\n",
       "      <td>NaN</td>\n",
       "      <td>NaN</td>\n",
       "      <td>NaN</td>\n",
       "      <td>NaN</td>\n",
       "      <td>NaN</td>\n",
       "      <td>NaN</td>\n",
       "      <td>NaN</td>\n",
       "      <td>NaN</td>\n",
       "      <td>NaN</td>\n",
       "      <td>NaN</td>\n",
       "      <td>NaN</td>\n",
       "      <td>NaN</td>\n",
       "      <td>NaN</td>\n",
       "      <td>NaN</td>\n",
       "      <td>05:40:00</td>\n",
       "    </tr>\n",
       "  </tbody>\n",
       "</table>\n",
       "<p>1 rows × 218 columns</p>\n",
       "</div>"
      ],
      "text/plain": [
       "                                                                            match_url  \\\n",
       "date       player1      player2                                                         \n",
       "2014-01-01 Matosević M. Querrey S.  https://www.sofascore.com/matosevic-querrey/bg...   \n",
       "\n",
       "                                   status            Surface  k1  k2  \\\n",
       "date       player1      player2                                        \n",
       "2014-01-01 Matosević M. Querrey S.  Ended  Hardcourt outdoor NaN NaN   \n",
       "\n",
       "                                    player1_win  round match_duration_mnt  \\\n",
       "date       player1      player2                                             \n",
       "2014-01-01 Matosević M. Querrey S.            1  (R16)                NaN   \n",
       "\n",
       "                                   Location  duration_set1  duration_set2  \\\n",
       "date       player1      player2                                             \n",
       "2014-01-01 Matosević M. Querrey S.      NaN            NaN            NaN   \n",
       "\n",
       "                                    duration_set3  duration_set4  \\\n",
       "date       player1      player2                                    \n",
       "2014-01-01 Matosević M. Querrey S.            NaN            NaN   \n",
       "\n",
       "                                    duration_set5  aces_match_player1  \\\n",
       "date       player1      player2                                         \n",
       "2014-01-01 Matosević M. Querrey S.            NaN                 NaN   \n",
       "\n",
       "                                    aces_match_player2  \\\n",
       "date       player1      player2                          \n",
       "2014-01-01 Matosević M. Querrey S.                 NaN   \n",
       "\n",
       "                                    double_faults_match_player1  \\\n",
       "date       player1      player2                                   \n",
       "2014-01-01 Matosević M. Querrey S.                          NaN   \n",
       "\n",
       "                                    double_faults_match_player2  \\\n",
       "date       player1      player2                                   \n",
       "2014-01-01 Matosević M. Querrey S.                          NaN   \n",
       "\n",
       "                                    first_serve_prc_match_player1  \\\n",
       "date       player1      player2                                     \n",
       "2014-01-01 Matosević M. Querrey S.                            NaN   \n",
       "\n",
       "                                    first_serve_prc_match_player2  \\\n",
       "date       player1      player2                                     \n",
       "2014-01-01 Matosević M. Querrey S.                            NaN   \n",
       "\n",
       "                                    first_serve_cnt_match_player1  \\\n",
       "date       player1      player2                                     \n",
       "2014-01-01 Matosević M. Querrey S.                            NaN   \n",
       "\n",
       "                                    first_serve_cnt_match_player2  \\\n",
       "date       player1      player2                                     \n",
       "2014-01-01 Matosević M. Querrey S.                            NaN   \n",
       "\n",
       "                                    second_serve_prc_match_player1  \\\n",
       "date       player1      player2                                      \n",
       "2014-01-01 Matosević M. Querrey S.                             NaN   \n",
       "\n",
       "                                    second_serve_prc_match_player2  \\\n",
       "date       player1      player2                                      \n",
       "2014-01-01 Matosević M. Querrey S.                             NaN   \n",
       "\n",
       "                                    second_serve_cnt_match_player1  ...  \\\n",
       "date       player1      player2                                     ...   \n",
       "2014-01-01 Matosević M. Querrey S.                             NaN  ...   \n",
       "\n",
       "                                    receiver_points_won_set5_player2  \\\n",
       "date       player1      player2                                        \n",
       "2014-01-01 Matosević M. Querrey S.                               NaN   \n",
       "\n",
       "                                    score_set1_player1  score_set1_player2  \\\n",
       "date       player1      player2                                              \n",
       "2014-01-01 Matosević M. Querrey S.                 5.0                 7.0   \n",
       "\n",
       "                                    score_set2_player1  score_set2_player2  \\\n",
       "date       player1      player2                                              \n",
       "2014-01-01 Matosević M. Querrey S.                 7.0                 6.0   \n",
       "\n",
       "                                    score_set3_player1  score_set3_player2  \\\n",
       "date       player1      player2                                              \n",
       "2014-01-01 Matosević M. Querrey S.                 6.0                 4.0   \n",
       "\n",
       "                                    score_set4_player1  score_set4_player2  \\\n",
       "date       player1      player2                                              \n",
       "2014-01-01 Matosević M. Querrey S.                 NaN                 NaN   \n",
       "\n",
       "                                    score_set5_player1  score_set5_player2  \\\n",
       "date       player1      player2                                              \n",
       "2014-01-01 Matosević M. Querrey S.                 NaN                 NaN   \n",
       "\n",
       "                                    tie_break_set1_player1  \\\n",
       "date       player1      player2                              \n",
       "2014-01-01 Matosević M. Querrey S.                     NaN   \n",
       "\n",
       "                                    tie_break_set1_player2  \\\n",
       "date       player1      player2                              \n",
       "2014-01-01 Matosević M. Querrey S.                     NaN   \n",
       "\n",
       "                                    tie_break_set2_player1  \\\n",
       "date       player1      player2                              \n",
       "2014-01-01 Matosević M. Querrey S.                     NaN   \n",
       "\n",
       "                                    tie_break_set2_player2  \\\n",
       "date       player1      player2                              \n",
       "2014-01-01 Matosević M. Querrey S.                     NaN   \n",
       "\n",
       "                                    tie_break_set3_player1  \\\n",
       "date       player1      player2                              \n",
       "2014-01-01 Matosević M. Querrey S.                     NaN   \n",
       "\n",
       "                                    tie_break_set3_player2  \\\n",
       "date       player1      player2                              \n",
       "2014-01-01 Matosević M. Querrey S.                     NaN   \n",
       "\n",
       "                                    tie_break_set4_player1  \\\n",
       "date       player1      player2                              \n",
       "2014-01-01 Matosević M. Querrey S.                     NaN   \n",
       "\n",
       "                                    tie_break_set4_player2  \\\n",
       "date       player1      player2                              \n",
       "2014-01-01 Matosević M. Querrey S.                     NaN   \n",
       "\n",
       "                                    tie_break_set5_player1  \\\n",
       "date       player1      player2                              \n",
       "2014-01-01 Matosević M. Querrey S.                     NaN   \n",
       "\n",
       "                                    tie_break_set5_player2  score_sets  \\\n",
       "date       player1      player2                                          \n",
       "2014-01-01 Matosević M. Querrey S.                     NaN         NaN   \n",
       "\n",
       "                                    bp_saved_cnt_player1  \\\n",
       "date       player1      player2                            \n",
       "2014-01-01 Matosević M. Querrey S.                   NaN   \n",
       "\n",
       "                                    bp_saved_cnt_player2      time  \n",
       "date       player1      player2                                     \n",
       "2014-01-01 Matosević M. Querrey S.                   NaN  05:40:00  \n",
       "\n",
       "[1 rows x 218 columns]"
      ]
     },
     "execution_count": 7,
     "metadata": {},
     "output_type": "execute_result"
    }
   ],
   "source": [
    "df.head(1)"
   ]
  },
  {
   "cell_type": "code",
   "execution_count": 6,
   "metadata": {},
   "outputs": [],
   "source": [
    "df = df.set_index([\"date\", \"player1\", \"player2\"])"
   ]
  },
  {
   "cell_type": "code",
   "execution_count": 8,
   "metadata": {},
   "outputs": [
    {
     "data": {
      "image/png": "[encoded data removed]",
      "text/plain": [
       "<Figure size 432x288 with 1 Axes>"
      ]
     },
     "metadata": {
      "needs_background": "light"
     },
     "output_type": "display_data"
    }
   ],
   "source": [
    "plt.hist(df.index.get_level_values('date'), bins=50);"
   ]
  },
  {
   "cell_type": "code",
   "execution_count": 9,
   "metadata": {
    "ExecuteTime": {
     "end_time": "2020-11-02T22:39:13.823377Z",
     "start_time": "2020-11-02T22:39:13.791623Z"
    }
   },
   "outputs": [
    {
     "name": "stdout",
     "output_type": "stream",
     "text": [
      "(26046, 218)\n"
     ]
    }
   ],
   "source": [
    "history_from = '2014-01-01'\n",
    "df = df[df.index.get_level_values('date') >= history_from]\n",
    "print(df.shape)"
   ]
  },
  {
   "cell_type": "code",
   "execution_count": 5,
   "metadata": {
    "ExecuteTime": {
     "end_time": "2020-11-02T22:39:13.861190Z",
     "start_time": "2020-11-02T22:39:13.825209Z"
    }
   },
   "outputs": [],
   "source": [
    "df['p1_age'] = (df.index.get_level_values('date') - df['p1_birthdate']).dt.days / 365\n",
    "df['p2_age'] = (df.index.get_level_values('date') - df['p2_birthdate']).dt.days / 365"
   ]
  },
  {
   "cell_type": "code",
   "execution_count": 6,
   "metadata": {
    "ExecuteTime": {
     "end_time": "2020-11-02T22:39:13.884556Z",
     "start_time": "2020-11-02T22:39:13.862952Z"
    }
   },
   "outputs": [],
   "source": [
    "df['p1_birthday_today'] = \\\n",
    "    (df['p1_birthdate'].dt.month == df.index.get_level_values('date').month) & \\\n",
    "    (df['p1_birthdate'].dt.day == df.index.get_level_values('date').day)\n",
    "\n",
    "df['p2_birthday_today'] = \\\n",
    "    (df['p2_birthdate'].dt.month == df.index.get_level_values('date').month) & \\\n",
    "    (df['p2_birthdate'].dt.day == df.index.get_level_values('date').day)"
   ]
  },
  {
   "cell_type": "code",
   "execution_count": 7,
   "metadata": {
    "ExecuteTime": {
     "end_time": "2020-11-02T22:39:18.892410Z",
     "start_time": "2020-11-02T22:39:18.877594Z"
    }
   },
   "outputs": [],
   "source": [
    "df['hour'] = df['time'].map(lambda x: x.hour)"
   ]
  },
  {
   "cell_type": "code",
   "execution_count": 8,
   "metadata": {
    "ExecuteTime": {
     "end_time": "2020-11-02T22:33:16.350427Z",
     "start_time": "2020-11-02T22:33:16.348253Z"
    }
   },
   "outputs": [],
   "source": [
    "# df['n_sets'] = df['total_score'].map(lambda x: sum(x) if x else np.nan)"
   ]
  },
  {
   "cell_type": "code",
   "execution_count": 8,
   "metadata": {
    "ExecuteTime": {
     "end_time": "2020-11-02T22:39:20.044635Z",
     "start_time": "2020-11-02T22:39:20.035753Z"
    }
   },
   "outputs": [],
   "source": [
    "df['p1_home'] = (df['country'] == df['p1_country'])\n",
    "df['p2_home'] = (df['country'] == df['p2_country'])"
   ]
  },
  {
   "cell_type": "code",
   "execution_count": 9,
   "metadata": {
    "ExecuteTime": {
     "end_time": "2020-11-02T22:39:20.679704Z",
     "start_time": "2020-11-02T22:39:20.620682Z"
    }
   },
   "outputs": [],
   "source": [
    "df['p1_start_card'] = df['p1_start_card'].fillna('N/A')\n",
    "df['p2_start_card'] = df['p2_start_card'].fillna('N/A')\n",
    "\n",
    "card_encoder = OrdinalEncoder()\n",
    "card_encoder.fit(df['p1_start_card'].values.reshape(-1,1));\n",
    "\n",
    "df['p1_start_card'] = card_encoder.transform(df['p1_start_card'].values.reshape(-1,1));\n",
    "df['p2_start_card'] = card_encoder.transform(df['p2_start_card'].values.reshape(-1,1));"
   ]
  },
  {
   "cell_type": "code",
   "execution_count": 10,
   "metadata": {
    "ExecuteTime": {
     "end_time": "2020-11-02T22:39:21.122273Z",
     "start_time": "2020-11-02T22:39:21.093070Z"
    }
   },
   "outputs": [],
   "source": [
    "df['surface'] = df['surface'].fillna('N/A')\n",
    "\n",
    "surface_encoder = OrdinalEncoder()\n",
    "df['surface'] = surface_encoder.fit_transform(df['surface'].values.reshape(-1,1));"
   ]
  },
  {
   "cell_type": "code",
   "execution_count": 11,
   "metadata": {
    "ExecuteTime": {
     "end_time": "2020-11-02T22:39:21.988181Z",
     "start_time": "2020-11-02T22:39:21.959186Z"
    },
    "scrolled": true
   },
   "outputs": [],
   "source": [
    "df['round'] = df['round'].fillna('N/A')\n",
    "\n",
    "round_encoder = OrdinalEncoder()\n",
    "df['round'] = round_encoder.fit_transform(df['round'].values.reshape(-1,1));"
   ]
  },
  {
   "cell_type": "code",
   "execution_count": 12,
   "metadata": {
    "ExecuteTime": {
     "end_time": "2020-11-02T22:39:23.772617Z",
     "start_time": "2020-11-02T22:39:23.737358Z"
    }
   },
   "outputs": [],
   "source": [
    "df['minutes'] = df['minutes'].map(lambda x: sum(x) if x else np.nan)"
   ]
  },
  {
   "cell_type": "code",
   "execution_count": 13,
   "metadata": {
    "ExecuteTime": {
     "end_time": "2020-11-02T22:39:26.723450Z",
     "start_time": "2020-11-02T22:39:24.535902Z"
    }
   },
   "outputs": [],
   "source": [
    "def get_k(odds, idx, agg_func=np.mean):\n",
    "    if not odds:\n",
    "        return np.nan\n",
    "    arr = [ks[idx] for bm, ks in odds.items()]\n",
    "    filt = list(filter(lambda x: isinstance(x, float) and not np.isnan(x), arr))\n",
    "    agg = agg_func(filt) if filt else np.nan\n",
    "    return agg\n",
    "\n",
    "df['p1_k_avg'] = df['odds'].map(lambda x: get_k(x, idx=0))\n",
    "df['p2_k_avg'] = df['odds'].map(lambda x: get_k(x, idx=1))\n",
    "\n",
    "df['p1_k_std'] = df['odds'].map(lambda x: get_k(x, idx=0, agg_func=np.std))\n",
    "df['p2_k_std'] = df['odds'].map(lambda x: get_k(x, idx=1, agg_func=np.std))\n",
    "\n",
    "df['p1_k_max'] = df['odds'].map(lambda x: get_k(x, idx=0, agg_func=np.max))\n",
    "df['p2_k_max'] = df['odds'].map(lambda x: get_k(x, idx=1, agg_func=np.max))"
   ]
  },
  {
   "cell_type": "code",
   "execution_count": 14,
   "metadata": {
    "ExecuteTime": {
     "end_time": "2020-11-02T22:42:07.696590Z",
     "start_time": "2020-11-02T22:39:31.007630Z"
    }
   },
   "outputs": [],
   "source": [
    "n_last = 7\n",
    "players = set(df.index.get_level_values('p1_name').tolist() + \\\n",
    "              df.index.get_level_values('p2_name').tolist())\n",
    "\n",
    "def generate_feature_name(name, idx):\n",
    "    prefix = 'p1_' if idx == 0 else 'p2_'\n",
    "    return prefix + name\n",
    "\n",
    "def count_history_matches(res, idx):\n",
    "    fname = generate_feature_name('played_before', idx)\n",
    "    return {fname: len(res)}\n",
    "\n",
    "def count_history_wins(res, hist_idx, idx):\n",
    "    fname = generate_feature_name('won_before', idx)\n",
    "    res = res.dropna().astype(bool)\n",
    "    n_won = res[hist_idx == 0].sum() + (~res)[hist_idx == 1].sum()\n",
    "    return {fname: n_won}\n",
    "\n",
    "def sum_history_minutes(res, idx):\n",
    "    fname = generate_feature_name('minutes_before', idx)\n",
    "    return {fname: res.sum()}\n",
    "\n",
    "\n",
    "hist_features = defaultdict(dict)\n",
    "\n",
    "for p_name in players:\n",
    "    p_hist = df[(df.index.get_level_values('p1_name') == p_name) | \\\n",
    "                (df.index.get_level_values('p2_name') == p_name)]\n",
    "\n",
    "    p_hist['idx'] = (p_hist.index.get_level_values('p2_name') == p_name).astype(int)\n",
    "    idx_date = p_hist.index.get_level_values('date')\n",
    "    \n",
    "    for i, row in p_hist.iterrows():\n",
    "        windowed = p_hist[(idx_date < i[0]) & \\\n",
    "                            (idx_date >= i[0] - pd.Timedelta(n_last, 'd'))]\n",
    "        p_idx = row['idx']\n",
    "        h_idx = windowed['idx']\n",
    "\n",
    "        hist_features[i].update(count_history_matches(windowed['p1_won'], p_idx))\n",
    "        hist_features[i].update(count_history_wins(windowed['p1_won'], h_idx, p_idx))\n",
    "        hist_features[i].update(sum_history_minutes(windowed['minutes'], p_idx))"
   ]
  },
  {
   "cell_type": "code",
   "execution_count": 15,
   "metadata": {
    "ExecuteTime": {
     "end_time": "2020-11-02T22:42:08.193080Z",
     "start_time": "2020-11-02T22:42:07.698464Z"
    }
   },
   "outputs": [],
   "source": [
    "hist_df = pd.DataFrame.from_dict(hist_features, orient='index')\n",
    "hist_df.index.names = df.index.names\n",
    "\n",
    "assert hist_df.shape[0] == df.shape[0]"
   ]
  },
  {
   "cell_type": "code",
   "execution_count": 16,
   "metadata": {
    "ExecuteTime": {
     "end_time": "2020-11-02T22:42:09.060390Z",
     "start_time": "2020-11-02T22:42:08.195160Z"
    }
   },
   "outputs": [],
   "source": [
    "df = pd.merge(df, hist_df, left_index=True, right_index=True)"
   ]
  },
  {
   "cell_type": "code",
   "execution_count": 1,
   "metadata": {
    "ExecuteTime": {
     "end_time": "2020-11-02T22:43:47.215631Z",
     "start_time": "2020-11-02T22:43:47.148611Z"
    }
   },
   "outputs": [
    {
     "ename": "NameError",
     "evalue": "name 'df' is not defined",
     "output_type": "error",
     "traceback": [
      "\u001b[0;31m---------------------------------------------------------------------------\u001b[0m",
      "\u001b[0;31mNameError\u001b[0m                                 Traceback (most recent call last)",
      "\u001b[0;32m<ipython-input-1-5fcf2cac4ada>\u001b[0m in \u001b[0;36m<module>\u001b[0;34m\u001b[0m\n\u001b[1;32m     14\u001b[0m ]\n\u001b[1;32m     15\u001b[0m \u001b[0;34m\u001b[0m\u001b[0m\n\u001b[0;32m---> 16\u001b[0;31m \u001b[0mdata\u001b[0m \u001b[0;34m=\u001b[0m \u001b[0mdf\u001b[0m\u001b[0;34m.\u001b[0m\u001b[0mloc\u001b[0m\u001b[0;34m[\u001b[0m\u001b[0mdf\u001b[0m\u001b[0;34m.\u001b[0m\u001b[0mindex\u001b[0m\u001b[0;34m.\u001b[0m\u001b[0mget_level_values\u001b[0m\u001b[0;34m(\u001b[0m\u001b[0;34m'date'\u001b[0m\u001b[0;34m)\u001b[0m \u001b[0;34m>\u001b[0m \u001b[0mfeatures_from\u001b[0m\u001b[0;34m,\u001b[0m \u001b[0mcols2keep\u001b[0m\u001b[0;34m]\u001b[0m\u001b[0;31m \u001b[0m\u001b[0;31m\\\u001b[0m\u001b[0;34m\u001b[0m\u001b[0;34m\u001b[0m\u001b[0m\n\u001b[0m\u001b[1;32m     17\u001b[0m     \u001b[0;34m.\u001b[0m\u001b[0mdropna\u001b[0m\u001b[0;34m(\u001b[0m\u001b[0msubset\u001b[0m\u001b[0;34m=\u001b[0m\u001b[0;34m[\u001b[0m\u001b[0;34m'p1_won'\u001b[0m\u001b[0;34m]\u001b[0m\u001b[0;34m)\u001b[0m\u001b[0;34m\u001b[0m\u001b[0;34m\u001b[0m\u001b[0m\n\u001b[1;32m     18\u001b[0m \u001b[0;34m\u001b[0m\u001b[0m\n",
      "\u001b[0;31mNameError\u001b[0m: name 'df' is not defined"
     ]
    }
   ],
   "source": [
    "features_from = '2015-01-01'\n",
    "\n",
    "cols2keep = [\n",
    "    'surface', 'round', 'is_qual', 'hour', 'p1_won',\n",
    "    'p1_start_pos', 'p2_start_pos', 'p1_start_card', 'p2_start_card',\n",
    "    'p1_age', 'p2_age', 'p1_birthday_today', 'p2_birthday_today',\n",
    "    'p1_home', 'p2_home', \n",
    "    'p1_k_avg', 'p2_k_avg', \n",
    "    'p1_k_max', 'p2_k_max',\n",
    "    'p1_k_std', 'p2_k_std',\n",
    "    \n",
    "    'p1_played_before', 'p1_won_before', 'p1_minutes_before',\n",
    "    'p2_played_before', 'p2_won_before', 'p2_minutes_before',\n",
    "]\n",
    "\n",
    "data = df.loc[df.index.get_level_values('date') > features_from, cols2keep] \\\n",
    "    .dropna(subset=['p1_won'])\n",
    "\n",
    "print(data.shape[0])\n",
    "data.head()"
   ]
  },
  {
   "cell_type": "code",
   "execution_count": null,
   "metadata": {
    "ExecuteTime": {
     "start_time": "2020-11-02T22:33:02.660Z"
    }
   },
   "outputs": [],
   "source": [
    "data[data.index.get_level_values('date').year==2019].groupby(data[data.index.get_level_values('date').year==2019].index.get_level_values('date').month).size()"
   ]
  },
  {
   "cell_type": "code",
   "execution_count": 20,
   "metadata": {
    "ExecuteTime": {
     "end_time": "2020-11-02T22:43:52.695390Z",
     "start_time": "2020-11-02T22:43:52.636900Z"
    }
   },
   "outputs": [],
   "source": [
    "data.to_pickle('data/final_data.pkl')"
   ]
  }
 ],
 "metadata": {
  "hide_input": false,
  "kernelspec": {
   "display_name": "Python 3",
   "language": "python",
   "name": "python3"
  },
  "language_info": {
   "codemirror_mode": {
    "name": "ipython",
    "version": 3
   },
   "file_extension": ".py",
   "mimetype": "text/x-python",
   "name": "python",
   "nbconvert_exporter": "python",
   "pygments_lexer": "ipython3",
   "version": "3.7.3"
  },
  "toc": {
   "base_numbering": 1,
   "nav_menu": {},
   "number_sections": true,
   "sideBar": true,
   "skip_h1_title": false,
   "title_cell": "Table of Contents",
   "title_sidebar": "Contents",
   "toc_cell": false,
   "toc_position": {},
   "toc_section_display": true,
   "toc_window_display": false
  }
 },
 "nbformat": 4,
 "nbformat_minor": 4
}
