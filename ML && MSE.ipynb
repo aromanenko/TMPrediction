{
 "cells": [
  {
   "cell_type": "code",
   "execution_count": 1,
   "metadata": {},
   "outputs": [],
   "source": [
    "import numpy as np\n",
    "from pprint import pprint\n",
    "import pandas as pd\n",
    "from sklearn.model_selection import TimeSeriesSplit\n",
    "from sklearn.model_selection import GridSearchCV\n",
    "import xgboost as xgb\n",
    "from sklearn.metrics import accuracy_score\n",
    "from sklearn.metrics import make_scorer\n",
    "from sklearn.metrics import mean_squared_error\n",
    "from sklearn.model_selection import cross_validate\n",
    "import matplotlib.pyplot as plt\n",
    "import warnings\n",
    "warnings.filterwarnings('ignore')"
   ]
  },
  {
   "cell_type": "code",
   "execution_count": 2,
   "metadata": {},
   "outputs": [],
   "source": [
    "from sklearn.metrics import accuracy_score\n",
    "def my_accuracy(y_true, y_pred):\n",
    "    y_pred = np.where(y_pred > 0.5, 1, 0)\n",
    "    return accuracy_score(y_true, y_pred)"
   ]
  },
  {
   "cell_type": "code",
   "execution_count": 3,
   "metadata": {},
   "outputs": [
    {
     "name": "stdout",
     "output_type": "stream",
     "text": [
      "(44188, 656)\n"
     ]
    },
    {
     "data": {
      "text/html": [
       "<div>\n",
       "<style scoped>\n",
       "    .dataframe tbody tr th:only-of-type {\n",
       "        vertical-align: middle;\n",
       "    }\n",
       "\n",
       "    .dataframe tbody tr th {\n",
       "        vertical-align: top;\n",
       "    }\n",
       "\n",
       "    .dataframe thead th {\n",
       "        text-align: right;\n",
       "    }\n",
       "</style>\n",
       "<table border=\"1\" class=\"dataframe\">\n",
       "  <thead>\n",
       "    <tr style=\"text-align: right;\">\n",
       "      <th></th>\n",
       "      <th></th>\n",
       "      <th></th>\n",
       "      <th>p2_filter_lag_1_max_points_in_a_row_match__median_7</th>\n",
       "      <th>p1_lag_1_points_won_match__pctl10_28</th>\n",
       "      <th>p1_lag_1_second_serve_prc_match__pctl90_7</th>\n",
       "      <th>p2_lag_1_second_serve_cnt_match__median_28</th>\n",
       "      <th>p2_filter_lag_1_max_points_in_a_row_match__pctl10_7</th>\n",
       "      <th>p2_lag_1_first_serve_points_cnt_match__pctl90_28</th>\n",
       "      <th>p1_lag_1_receiver_points_won_match__pctl10_7</th>\n",
       "      <th>p1_filter_lag_1_second_serve_points_cnt_match__median_7</th>\n",
       "      <th>p1_lag_1_match_dur_pctl90_1</th>\n",
       "      <th>p1_filter_lag_1_max_points_in_a_row_match__mean_7</th>\n",
       "      <th>...</th>\n",
       "      <th>p1_filter_lag_1_points_won_match__pctl90_28</th>\n",
       "      <th>p1_lag_1_second_serve_points_cnt_match__mean_28</th>\n",
       "      <th>p2_lag_1_first_serve_points_prc_match__mean_28</th>\n",
       "      <th>p2_filter_lag_1_second_serve_prc_match__mean_7</th>\n",
       "      <th>p1_filter_lag_1_second_serve_points_prc_match__median_7</th>\n",
       "      <th>p1_filter_lag_1_first_serve_prc_match__median_7</th>\n",
       "      <th>p1_filter_lag_1_points_won_match__median_28</th>\n",
       "      <th>p2_lag_1_receiver_points_won_match__pctl10_28</th>\n",
       "      <th>p2_lag_1_bp_saved_cnt__pctl90_7_x</th>\n",
       "      <th>p1_lag_1_first_serve_cnt_match__pctl10_28</th>\n",
       "    </tr>\n",
       "    <tr>\n",
       "      <th>date</th>\n",
       "      <th>p1</th>\n",
       "      <th>p2</th>\n",
       "      <th></th>\n",
       "      <th></th>\n",
       "      <th></th>\n",
       "      <th></th>\n",
       "      <th></th>\n",
       "      <th></th>\n",
       "      <th></th>\n",
       "      <th></th>\n",
       "      <th></th>\n",
       "      <th></th>\n",
       "      <th></th>\n",
       "      <th></th>\n",
       "      <th></th>\n",
       "      <th></th>\n",
       "      <th></th>\n",
       "      <th></th>\n",
       "      <th></th>\n",
       "      <th></th>\n",
       "      <th></th>\n",
       "      <th></th>\n",
       "      <th></th>\n",
       "    </tr>\n",
       "  </thead>\n",
       "  <tbody>\n",
       "    <tr>\n",
       "      <th rowspan=\"3\" valign=\"top\">2020-11-21</th>\n",
       "      <th>Medvedev D.</th>\n",
       "      <th>Nadal R.</th>\n",
       "      <td>5.0</td>\n",
       "      <td>47.4</td>\n",
       "      <td>0.962500</td>\n",
       "      <td>23.0</td>\n",
       "      <td>4.0</td>\n",
       "      <td>52.9</td>\n",
       "      <td>24.6</td>\n",
       "      <td>9.0</td>\n",
       "      <td>74.0</td>\n",
       "      <td>7.285714</td>\n",
       "      <td>...</td>\n",
       "      <td>91.9</td>\n",
       "      <td>12.750000</td>\n",
       "      <td>0.747049</td>\n",
       "      <td>0.948954</td>\n",
       "      <td>0.562500</td>\n",
       "      <td>0.783784</td>\n",
       "      <td>73.5</td>\n",
       "      <td>20.7</td>\n",
       "      <td>NaN</td>\n",
       "      <td>29.0</td>\n",
       "    </tr>\n",
       "    <tr>\n",
       "      <th>Nadal R.</th>\n",
       "      <th>Medvedev D.</th>\n",
       "      <td>7.0</td>\n",
       "      <td>58.7</td>\n",
       "      <td>1.000000</td>\n",
       "      <td>18.0</td>\n",
       "      <td>5.2</td>\n",
       "      <td>50.6</td>\n",
       "      <td>19.4</td>\n",
       "      <td>16.0</td>\n",
       "      <td>196.0</td>\n",
       "      <td>6.142857</td>\n",
       "      <td>...</td>\n",
       "      <td>NaN</td>\n",
       "      <td>15.285714</td>\n",
       "      <td>0.777741</td>\n",
       "      <td>0.860119</td>\n",
       "      <td>0.583333</td>\n",
       "      <td>0.666667</td>\n",
       "      <td>79.5</td>\n",
       "      <td>15.4</td>\n",
       "      <td>6.0</td>\n",
       "      <td>29.0</td>\n",
       "    </tr>\n",
       "    <tr>\n",
       "      <th>Thiem D.</th>\n",
       "      <th>Djokovic N.</th>\n",
       "      <td>7.0</td>\n",
       "      <td>60.2</td>\n",
       "      <td>0.974286</td>\n",
       "      <td>22.0</td>\n",
       "      <td>3.6</td>\n",
       "      <td>45.3</td>\n",
       "      <td>13.6</td>\n",
       "      <td>14.0</td>\n",
       "      <td>74.0</td>\n",
       "      <td>5.857143</td>\n",
       "      <td>...</td>\n",
       "      <td>101.0</td>\n",
       "      <td>18.464286</td>\n",
       "      <td>0.735739</td>\n",
       "      <td>0.869726</td>\n",
       "      <td>0.488372</td>\n",
       "      <td>0.742857</td>\n",
       "      <td>76.0</td>\n",
       "      <td>16.7</td>\n",
       "      <td>8.2</td>\n",
       "      <td>42.4</td>\n",
       "    </tr>\n",
       "    <tr>\n",
       "      <th rowspan=\"2\" valign=\"top\">2020-11-22</th>\n",
       "      <th>Medvedev D.</th>\n",
       "      <th>Thiem D.</th>\n",
       "      <td>6.0</td>\n",
       "      <td>47.4</td>\n",
       "      <td>0.932143</td>\n",
       "      <td>31.0</td>\n",
       "      <td>4.6</td>\n",
       "      <td>71.2</td>\n",
       "      <td>24.6</td>\n",
       "      <td>9.0</td>\n",
       "      <td>155.0</td>\n",
       "      <td>7.285714</td>\n",
       "      <td>...</td>\n",
       "      <td>96.1</td>\n",
       "      <td>12.321429</td>\n",
       "      <td>0.729398</td>\n",
       "      <td>0.903779</td>\n",
       "      <td>0.562500</td>\n",
       "      <td>0.740741</td>\n",
       "      <td>73.5</td>\n",
       "      <td>18.2</td>\n",
       "      <td>4.8</td>\n",
       "      <td>29.0</td>\n",
       "    </tr>\n",
       "    <tr>\n",
       "      <th>Thiem D.</th>\n",
       "      <th>Medvedev D.</th>\n",
       "      <td>7.0</td>\n",
       "      <td>60.2</td>\n",
       "      <td>0.962500</td>\n",
       "      <td>18.0</td>\n",
       "      <td>5.2</td>\n",
       "      <td>48.6</td>\n",
       "      <td>13.6</td>\n",
       "      <td>14.0</td>\n",
       "      <td>174.0</td>\n",
       "      <td>6.000000</td>\n",
       "      <td>...</td>\n",
       "      <td>102.5</td>\n",
       "      <td>18.250000</td>\n",
       "      <td>0.780779</td>\n",
       "      <td>0.842976</td>\n",
       "      <td>0.488372</td>\n",
       "      <td>0.742857</td>\n",
       "      <td>76.0</td>\n",
       "      <td>15.4</td>\n",
       "      <td>6.0</td>\n",
       "      <td>42.4</td>\n",
       "    </tr>\n",
       "  </tbody>\n",
       "</table>\n",
       "<p>5 rows × 656 columns</p>\n",
       "</div>"
      ],
      "text/plain": [
       "                                    p2_filter_lag_1_max_points_in_a_row_match__median_7  \\\n",
       "date       p1          p2                                                                 \n",
       "2020-11-21 Medvedev D. Nadal R.                                                   5.0     \n",
       "           Nadal R.    Medvedev D.                                                7.0     \n",
       "           Thiem D.    Djokovic N.                                                7.0     \n",
       "2020-11-22 Medvedev D. Thiem D.                                                   6.0     \n",
       "           Thiem D.    Medvedev D.                                                7.0     \n",
       "\n",
       "                                    p1_lag_1_points_won_match__pctl10_28  \\\n",
       "date       p1          p2                                                  \n",
       "2020-11-21 Medvedev D. Nadal R.                                     47.4   \n",
       "           Nadal R.    Medvedev D.                                  58.7   \n",
       "           Thiem D.    Djokovic N.                                  60.2   \n",
       "2020-11-22 Medvedev D. Thiem D.                                     47.4   \n",
       "           Thiem D.    Medvedev D.                                  60.2   \n",
       "\n",
       "                                    p1_lag_1_second_serve_prc_match__pctl90_7  \\\n",
       "date       p1          p2                                                       \n",
       "2020-11-21 Medvedev D. Nadal R.                                      0.962500   \n",
       "           Nadal R.    Medvedev D.                                   1.000000   \n",
       "           Thiem D.    Djokovic N.                                   0.974286   \n",
       "2020-11-22 Medvedev D. Thiem D.                                      0.932143   \n",
       "           Thiem D.    Medvedev D.                                   0.962500   \n",
       "\n",
       "                                    p2_lag_1_second_serve_cnt_match__median_28  \\\n",
       "date       p1          p2                                                        \n",
       "2020-11-21 Medvedev D. Nadal R.                                           23.0   \n",
       "           Nadal R.    Medvedev D.                                        18.0   \n",
       "           Thiem D.    Djokovic N.                                        22.0   \n",
       "2020-11-22 Medvedev D. Thiem D.                                           31.0   \n",
       "           Thiem D.    Medvedev D.                                        18.0   \n",
       "\n",
       "                                    p2_filter_lag_1_max_points_in_a_row_match__pctl10_7  \\\n",
       "date       p1          p2                                                                 \n",
       "2020-11-21 Medvedev D. Nadal R.                                                   4.0     \n",
       "           Nadal R.    Medvedev D.                                                5.2     \n",
       "           Thiem D.    Djokovic N.                                                3.6     \n",
       "2020-11-22 Medvedev D. Thiem D.                                                   4.6     \n",
       "           Thiem D.    Medvedev D.                                                5.2     \n",
       "\n",
       "                                    p2_lag_1_first_serve_points_cnt_match__pctl90_28  \\\n",
       "date       p1          p2                                                              \n",
       "2020-11-21 Medvedev D. Nadal R.                                                 52.9   \n",
       "           Nadal R.    Medvedev D.                                              50.6   \n",
       "           Thiem D.    Djokovic N.                                              45.3   \n",
       "2020-11-22 Medvedev D. Thiem D.                                                 71.2   \n",
       "           Thiem D.    Medvedev D.                                              48.6   \n",
       "\n",
       "                                    p1_lag_1_receiver_points_won_match__pctl10_7  \\\n",
       "date       p1          p2                                                          \n",
       "2020-11-21 Medvedev D. Nadal R.                                             24.6   \n",
       "           Nadal R.    Medvedev D.                                          19.4   \n",
       "           Thiem D.    Djokovic N.                                          13.6   \n",
       "2020-11-22 Medvedev D. Thiem D.                                             24.6   \n",
       "           Thiem D.    Medvedev D.                                          13.6   \n",
       "\n",
       "                                    p1_filter_lag_1_second_serve_points_cnt_match__median_7  \\\n",
       "date       p1          p2                                                                     \n",
       "2020-11-21 Medvedev D. Nadal R.                                                   9.0         \n",
       "           Nadal R.    Medvedev D.                                               16.0         \n",
       "           Thiem D.    Djokovic N.                                               14.0         \n",
       "2020-11-22 Medvedev D. Thiem D.                                                   9.0         \n",
       "           Thiem D.    Medvedev D.                                               14.0         \n",
       "\n",
       "                                    p1_lag_1_match_dur_pctl90_1  \\\n",
       "date       p1          p2                                         \n",
       "2020-11-21 Medvedev D. Nadal R.                            74.0   \n",
       "           Nadal R.    Medvedev D.                        196.0   \n",
       "           Thiem D.    Djokovic N.                         74.0   \n",
       "2020-11-22 Medvedev D. Thiem D.                           155.0   \n",
       "           Thiem D.    Medvedev D.                        174.0   \n",
       "\n",
       "                                    p1_filter_lag_1_max_points_in_a_row_match__mean_7  \\\n",
       "date       p1          p2                                                               \n",
       "2020-11-21 Medvedev D. Nadal R.                                              7.285714   \n",
       "           Nadal R.    Medvedev D.                                           6.142857   \n",
       "           Thiem D.    Djokovic N.                                           5.857143   \n",
       "2020-11-22 Medvedev D. Thiem D.                                              7.285714   \n",
       "           Thiem D.    Medvedev D.                                           6.000000   \n",
       "\n",
       "                                    ...  \\\n",
       "date       p1          p2           ...   \n",
       "2020-11-21 Medvedev D. Nadal R.     ...   \n",
       "           Nadal R.    Medvedev D.  ...   \n",
       "           Thiem D.    Djokovic N.  ...   \n",
       "2020-11-22 Medvedev D. Thiem D.     ...   \n",
       "           Thiem D.    Medvedev D.  ...   \n",
       "\n",
       "                                    p1_filter_lag_1_points_won_match__pctl90_28  \\\n",
       "date       p1          p2                                                         \n",
       "2020-11-21 Medvedev D. Nadal R.                                            91.9   \n",
       "           Nadal R.    Medvedev D.                                          NaN   \n",
       "           Thiem D.    Djokovic N.                                        101.0   \n",
       "2020-11-22 Medvedev D. Thiem D.                                            96.1   \n",
       "           Thiem D.    Medvedev D.                                        102.5   \n",
       "\n",
       "                                    p1_lag_1_second_serve_points_cnt_match__mean_28  \\\n",
       "date       p1          p2                                                             \n",
       "2020-11-21 Medvedev D. Nadal R.                                           12.750000   \n",
       "           Nadal R.    Medvedev D.                                        15.285714   \n",
       "           Thiem D.    Djokovic N.                                        18.464286   \n",
       "2020-11-22 Medvedev D. Thiem D.                                           12.321429   \n",
       "           Thiem D.    Medvedev D.                                        18.250000   \n",
       "\n",
       "                                    p2_lag_1_first_serve_points_prc_match__mean_28  \\\n",
       "date       p1          p2                                                            \n",
       "2020-11-21 Medvedev D. Nadal R.                                           0.747049   \n",
       "           Nadal R.    Medvedev D.                                        0.777741   \n",
       "           Thiem D.    Djokovic N.                                        0.735739   \n",
       "2020-11-22 Medvedev D. Thiem D.                                           0.729398   \n",
       "           Thiem D.    Medvedev D.                                        0.780779   \n",
       "\n",
       "                                    p2_filter_lag_1_second_serve_prc_match__mean_7  \\\n",
       "date       p1          p2                                                            \n",
       "2020-11-21 Medvedev D. Nadal R.                                           0.948954   \n",
       "           Nadal R.    Medvedev D.                                        0.860119   \n",
       "           Thiem D.    Djokovic N.                                        0.869726   \n",
       "2020-11-22 Medvedev D. Thiem D.                                           0.903779   \n",
       "           Thiem D.    Medvedev D.                                        0.842976   \n",
       "\n",
       "                                    p1_filter_lag_1_second_serve_points_prc_match__median_7  \\\n",
       "date       p1          p2                                                                     \n",
       "2020-11-21 Medvedev D. Nadal R.                                              0.562500         \n",
       "           Nadal R.    Medvedev D.                                           0.583333         \n",
       "           Thiem D.    Djokovic N.                                           0.488372         \n",
       "2020-11-22 Medvedev D. Thiem D.                                              0.562500         \n",
       "           Thiem D.    Medvedev D.                                           0.488372         \n",
       "\n",
       "                                    p1_filter_lag_1_first_serve_prc_match__median_7  \\\n",
       "date       p1          p2                                                             \n",
       "2020-11-21 Medvedev D. Nadal R.                                            0.783784   \n",
       "           Nadal R.    Medvedev D.                                         0.666667   \n",
       "           Thiem D.    Djokovic N.                                         0.742857   \n",
       "2020-11-22 Medvedev D. Thiem D.                                            0.740741   \n",
       "           Thiem D.    Medvedev D.                                         0.742857   \n",
       "\n",
       "                                    p1_filter_lag_1_points_won_match__median_28  \\\n",
       "date       p1          p2                                                         \n",
       "2020-11-21 Medvedev D. Nadal R.                                            73.5   \n",
       "           Nadal R.    Medvedev D.                                         79.5   \n",
       "           Thiem D.    Djokovic N.                                         76.0   \n",
       "2020-11-22 Medvedev D. Thiem D.                                            73.5   \n",
       "           Thiem D.    Medvedev D.                                         76.0   \n",
       "\n",
       "                                    p2_lag_1_receiver_points_won_match__pctl10_28  \\\n",
       "date       p1          p2                                                           \n",
       "2020-11-21 Medvedev D. Nadal R.                                              20.7   \n",
       "           Nadal R.    Medvedev D.                                           15.4   \n",
       "           Thiem D.    Djokovic N.                                           16.7   \n",
       "2020-11-22 Medvedev D. Thiem D.                                              18.2   \n",
       "           Thiem D.    Medvedev D.                                           15.4   \n",
       "\n",
       "                                    p2_lag_1_bp_saved_cnt__pctl90_7_x  \\\n",
       "date       p1          p2                                               \n",
       "2020-11-21 Medvedev D. Nadal R.                                   NaN   \n",
       "           Nadal R.    Medvedev D.                                6.0   \n",
       "           Thiem D.    Djokovic N.                                8.2   \n",
       "2020-11-22 Medvedev D. Thiem D.                                   4.8   \n",
       "           Thiem D.    Medvedev D.                                6.0   \n",
       "\n",
       "                                    p1_lag_1_first_serve_cnt_match__pctl10_28  \n",
       "date       p1          p2                                                      \n",
       "2020-11-21 Medvedev D. Nadal R.                                          29.0  \n",
       "           Nadal R.    Medvedev D.                                       29.0  \n",
       "           Thiem D.    Djokovic N.                                       42.4  \n",
       "2020-11-22 Medvedev D. Thiem D.                                          29.0  \n",
       "           Thiem D.    Medvedev D.                                       42.4  \n",
       "\n",
       "[5 rows x 656 columns]"
      ]
     },
     "execution_count": 3,
     "metadata": {},
     "output_type": "execute_result"
    }
   ],
   "source": [
    "data = pd.read_pickle('all_features.pkl')\n",
    "print(data.shape)\n",
    "data.tail(5)"
   ]
  },
  {
   "cell_type": "code",
   "execution_count": 4,
   "metadata": {},
   "outputs": [],
   "source": [
    "y = data['p1_win'].astype(int)\n",
    "X = data.drop(['p1_win'], axis=1)\n",
    "date_idx = X.index.get_level_values('date')"
   ]
  },
  {
   "cell_type": "code",
   "execution_count": 5,
   "metadata": {},
   "outputs": [
    {
     "name": "stdout",
     "output_type": "stream",
     "text": [
      "test period: ('2019-01-01', '2019-04-01'), match count: 2,250\n",
      "test period: ('2019-04-01', '2019-07-01'), match count: 2,288\n",
      "test period: ('2019-07-01', '2019-10-01'), match count: 2,288\n",
      "test period: ('2019-10-01', '2020-04-01'), match count: 2,758\n",
      "test period: ('2020-08-01', '2020-11-01'), match count: 1,868\n"
     ]
    }
   ],
   "source": [
    "test_periods = [\n",
    "    ('2019-01-01', '2019-04-01'),\n",
    "    ('2019-04-01', '2019-07-01'),\n",
    "    ('2019-07-01', '2019-10-01'),\n",
    "    ('2019-10-01', '2020-04-01'),\n",
    "    ('2020-08-01', '2020-11-01'),\n",
    "]\n",
    "\n",
    "for p in test_periods:\n",
    "    n_test = data[(date_idx >= p[0]) & (date_idx < p[1])].shape[0]\n",
    "    print('test period: {}, match count: {:,}'.format(p, n_test))"
   ]
  },
  {
   "cell_type": "code",
   "execution_count": 7,
   "metadata": {},
   "outputs": [],
   "source": [
    "## TO DO: Протестить все тестовые периоды\n",
    "test_from, test_to = test_periods[4]\n",
    "d = date_idx\n",
    "X_test = X[(date_idx >= test_from) & (date_idx < test_to)]\n",
    "y_test = y[(date_idx >= test_from) & (date_idx < test_to)]\n",
    "\n",
    "X_train = X[(date_idx < test_from)]\n",
    "y_train = y[(date_idx < test_from)]\n",
    "## X_train = X[(date_idx < test_from) & (date_idx  >= '2016-01-01')]\n",
    "## y_train = y[(date_idx < test_from) & (date_idx >= '2016-01-01')]"
   ]
  },
  {
   "cell_type": "markdown",
   "metadata": {},
   "source": [
    "## No Hyperparams"
   ]
  },
  {
   "cell_type": "markdown",
   "metadata": {},
   "source": [
    "## XGBClassifier"
   ]
  },
  {
   "cell_type": "code",
   "execution_count": 79,
   "metadata": {},
   "outputs": [],
   "source": [
    "regr = xgb.XGBClassifier(n_jobs=3, objective='multi:softprob')\n",
    "metric_accuracy = make_scorer(my_accuracy)\n",
    "cv_res = cross_validate(regr, X_train, y_train, scoring = {'accuracy': metric_accuracy}, return_train_score=True, cv=10)"
   ]
  },
  {
   "cell_type": "code",
   "execution_count": 74,
   "metadata": {},
   "outputs": [
    {
     "data": {
      "text/plain": [
       "[<matplotlib.lines.Line2D at 0x7fb0fda2ec88>]"
      ]
     },
     "execution_count": 74,
     "metadata": {},
     "output_type": "execute_result"
    },
    {
     "data": {
      "image/png": "[encoded data removed]",
      "text/plain": [
       "<Figure size 864x432 with 1 Axes>"
      ]
     },
     "metadata": {
      "needs_background": "light"
     },
     "output_type": "display_data"
    }
   ],
   "source": [
    "plt.figure(figsize=(12,6))\n",
    "plt.xlabel(\"test_period\")\n",
    "plt.ylabel(\"accuracy\")\n",
    "plt.plot([x for x in range(1, 11)], cv_res['test_accuracy'], \"o-\", color='green')"
   ]
  },
  {
   "cell_type": "code",
   "execution_count": 51,
   "metadata": {},
   "outputs": [],
   "source": [
    "regr = xgb.XGBClassifier(n_jobs=3, disable_default_eval_metric=True, eval_metric='mphe')\n",
    "metric_accuracy = make_scorer(my_accuracy)\n",
    "cv_res = cross_validate(regr, X_train, y_train, scoring = {'accuracy': metric_accuracy}, return_train_score=True, cv=10)"
   ]
  },
  {
   "cell_type": "code",
   "execution_count": 52,
   "metadata": {},
   "outputs": [
    {
     "data": {
      "text/plain": [
       "[<matplotlib.lines.Line2D at 0x7fb17d7d4f60>]"
      ]
     },
     "execution_count": 52,
     "metadata": {},
     "output_type": "execute_result"
    },
    {
     "data": {
      "image/png": "[encoded data removed]",
      "text/plain": [
       "<Figure size 864x432 with 1 Axes>"
      ]
     },
     "metadata": {
      "needs_background": "light"
     },
     "output_type": "display_data"
    }
   ],
   "source": [
    "plt.figure(figsize=(12,6))\n",
    "plt.xlabel(\"test_period\")\n",
    "plt.ylabel(\"accuracy\")\n",
    "plt.plot([x for x in range(1, 11)], cv_res['test_accuracy'], \"o-\", color='green')"
   ]
  },
  {
   "cell_type": "code",
   "execution_count": 174,
   "metadata": {},
   "outputs": [
    {
     "data": {
      "text/plain": [
       "[<matplotlib.lines.Line2D at 0x7f9208ec8470>]"
      ]
     },
     "execution_count": 174,
     "metadata": {},
     "output_type": "execute_result"
    },
    {
     "data": {
      "image/png": "[encoded data removed]",
      "text/plain": [
       "<Figure size 864x432 with 1 Axes>"
      ]
     },
     "metadata": {
      "needs_background": "light"
     },
     "output_type": "display_data"
    }
   ],
   "source": [
    "plt.figure(figsize=(12,6))\n",
    "plt.xlabel(\"test_period\")\n",
    "plt.ylabel(\"mse\")\n",
    "plt.plot([x for x in range(1, 11)], cv_res['test_mse'], \"o-\", color='orange')"
   ]
  },
  {
   "cell_type": "markdown",
   "metadata": {},
   "source": [
    "## XGBRegressor"
   ]
  },
  {
   "cell_type": "code",
   "execution_count": 175,
   "metadata": {},
   "outputs": [],
   "source": [
    "regr = xgb.XGBRegressor(n_jobs=3)\n",
    "metric_accuracy = make_scorer(my_accuracy)\n",
    "cv_res = cross_validate(regr, X_train, y_train, scoring = {'accuracy': metric_accuracy,\n",
    "                                                          'mse': 'neg_mean_squared_error'}, return_train_score=True, cv=10)"
   ]
  },
  {
   "cell_type": "code",
   "execution_count": 176,
   "metadata": {},
   "outputs": [
    {
     "data": {
      "text/plain": [
       "[<matplotlib.lines.Line2D at 0x7f920e32f278>]"
      ]
     },
     "execution_count": 176,
     "metadata": {},
     "output_type": "execute_result"
    },
    {
     "data": {
      "image/png": "[encoded data removed]",
      "text/plain": [
       "<Figure size 864x432 with 1 Axes>"
      ]
     },
     "metadata": {
      "needs_background": "light"
     },
     "output_type": "display_data"
    }
   ],
   "source": [
    "plt.figure(figsize=(12,6))\n",
    "plt.xlabel(\"test_period\")\n",
    "plt.ylabel(\"accuracy\")\n",
    "plt.plot([x for x in range(1, 11)], cv_res['test_accuracy'], \"o-\", color='green')"
   ]
  },
  {
   "cell_type": "code",
   "execution_count": 177,
   "metadata": {},
   "outputs": [
    {
     "data": {
      "text/plain": [
       "[<matplotlib.lines.Line2D at 0x7f9209434e10>]"
      ]
     },
     "execution_count": 177,
     "metadata": {},
     "output_type": "execute_result"
    },
    {
     "data": {
      "image/png": "[encoded data removed]",
      "text/plain": [
       "<Figure size 864x432 with 1 Axes>"
      ]
     },
     "metadata": {
      "needs_background": "light"
     },
     "output_type": "display_data"
    }
   ],
   "source": [
    "plt.figure(figsize=(12,6))\n",
    "plt.xlabel(\"test_period\")\n",
    "plt.ylabel(\"mse\")\n",
    "plt.plot([x for x in range(1, 11)], cv_res['test_mse'], \"o-\", color='orange')"
   ]
  },
  {
   "cell_type": "markdown",
   "metadata": {},
   "source": [
    "## XGBClassifier"
   ]
  },
  {
   "cell_type": "code",
   "execution_count": 9,
   "metadata": {},
   "outputs": [
    {
     "data": {
      "text/plain": [
       "GridSearchCV(cv=TimeSeriesSplit(gap=0, max_train_size=None, n_splits=10, test_size=None),\n",
       "             estimator=XGBClassifier(base_score=None, booster=None,\n",
       "                                     colsample_bylevel=None,\n",
       "                                     colsample_bynode=None,\n",
       "                                     colsample_bytree=None, gamma=None,\n",
       "                                     gpu_id=None, importance_type='gain',\n",
       "                                     interaction_constraints=None,\n",
       "                                     learning_rate=None, max_delta_step=None,\n",
       "                                     max_depth=None, min_child_weigh...\n",
       "                                     reg_alpha=None, reg_lambda=None,\n",
       "                                     scale_pos_weight=None, subsample=None,\n",
       "                                     tree_method=None, validate_parameters=None,\n",
       "                                     verbosity=None),\n",
       "             param_grid={'colsample_bytree': [0.8, 0.9],\n",
       "                         'eval_metric': ['logloss'],\n",
       "                         'learning_rate': [0.02, 0.04], 'max_depth': [2, 4],\n",
       "                         'n_estimators': [70, 100, 150],\n",
       "                         'subsample': [0.7, 0.8]},\n",
       "             return_train_score=True,\n",
       "             scoring=<function my_accuracy at 0x7ff81d130c80>)"
      ]
     },
     "execution_count": 9,
     "metadata": {},
     "output_type": "execute_result"
    }
   ],
   "source": [
    "metric_accuracy = make_scorer(my_accuracy)\n",
    "grid_params = {\n",
    "    'learning_rate': [0.02, 0.04], \n",
    "    'max_depth': [2, 4],\n",
    "    'subsample': [0.7, 0.8],\n",
    "    'colsample_bytree': [0.8, 0.9],\n",
    "    'n_estimators': [70, 100, 150],\n",
    "    'eval_metric': ['logloss']\n",
    "}\n",
    "\n",
    "# scoring = {'accuracy': metric_accuracy, 'mse': 'neg_mean_squared_error'}\n",
    "cv = TimeSeriesSplit(n_splits=10)\n",
    "gs_cl = GridSearchCV(xgb.XGBClassifier(n_jobs=3), grid_params, scoring=my_accuracy, cv=cv, return_train_score=True)\n",
    "gs_cl.fit(X_train,y_train, verbose=True)"
   ]
  },
  {
   "cell_type": "code",
   "execution_count": 13,
   "metadata": {},
   "outputs": [
    {
     "data": {
      "text/plain": [
       "{'mean_fit_time': array([  9.67704074,  10.10231194,  13.68149343,  15.57992561,\n",
       "         19.54930923,  20.16544664,  20.09610593,  19.92479324,\n",
       "         26.78912041,  27.26773453,  38.44955401,  37.15084589,\n",
       "          9.95235739,  10.06367023,  12.95510349,  13.25090911,\n",
       "         18.52018962,  18.74564064,  17.93739803,  18.31524591,\n",
       "         24.45003657,  25.12135875,  35.32474597,  36.06333137,\n",
       "         10.66429808,  10.65664611,  14.21873283,  14.5332427 ,\n",
       "         20.48451385,  21.01477301, 202.70131888,  39.62903726,\n",
       "         95.34926794, 110.23836286, 163.54626715, 174.55822303,\n",
       "         41.93201222,  40.5856113 ,  55.46251037,  54.29927282,\n",
       "         81.89763317,  89.14524961,  84.49631829,  81.87098072,\n",
       "         30.60227671,  31.24790499,  52.69462883,  48.56633043]),\n",
       " 'std_fit_time': array([  6.73745618,   7.34554293,  10.00251232,  11.09259093,\n",
       "         13.83588209,  14.74733936,  14.73366447,  14.36539872,\n",
       "         18.90070953,  18.32294773,  28.5689858 ,  27.35958813,\n",
       "          7.21845833,   7.12376206,   9.21537671,   9.50333524,\n",
       "         13.40159915,  13.54756347,  13.0394358 ,  13.25973976,\n",
       "         17.81145605,  18.36685798,  25.89832825,  26.5918234 ,\n",
       "          7.53498749,   7.55248779,  10.23070212,  10.45500306,\n",
       "         14.88568188,  15.52635784, 486.17825436,  45.75066142,\n",
       "         70.81366544,  83.57864663, 124.16033734, 127.30722836,\n",
       "         29.46862199,  30.12144725,  40.61791293,  39.96790759,\n",
       "         63.89373321,  67.89763823,  63.4931099 ,  54.10031835,\n",
       "         19.84054733,  24.70981865,  42.46672905,  35.68067998]),\n",
       " 'mean_score_time': array([0.00022926, 0.0001914 , 0.00018451, 0.00018675, 0.00019906,\n",
       "        0.0002074 , 0.00022619, 0.00022378, 0.00020945, 0.00023062,\n",
       "        0.00028446, 0.00019617, 0.00019336, 0.00017996, 0.00019777,\n",
       "        0.00018823, 0.00020442, 0.00019102, 0.00020096, 0.00018835,\n",
       "        0.00019445, 0.00019531, 0.00020859, 0.00018296, 0.00019045,\n",
       "        0.00018494, 0.00017922, 0.00019412, 0.00019834, 0.00020754,\n",
       "        0.00023577, 0.00028689, 0.00053718, 0.00064073, 0.00057104,\n",
       "        0.00058274, 0.00065663, 0.00058334, 0.00061758, 0.0005831 ,\n",
       "        0.00057843, 0.00066714, 0.00061574, 0.00066261, 0.0002038 ,\n",
       "        0.00027122, 0.00021722, 0.0002691 ]),\n",
       " 'std_score_time': array([9.21007114e-05, 2.31238491e-05, 1.57534794e-05, 1.60705618e-05,\n",
       "        3.40463818e-05, 4.02489048e-05, 4.08445263e-05, 4.80112746e-05,\n",
       "        3.70143980e-05, 8.77160098e-05, 1.95695197e-04, 2.11703884e-05,\n",
       "        2.27551768e-05, 2.05789350e-05, 2.15579050e-05, 2.00771236e-05,\n",
       "        2.37032197e-05, 1.92991851e-05, 1.40765729e-05, 1.68519946e-05,\n",
       "        1.25541362e-05, 1.55819994e-05, 3.09074447e-05, 1.86553054e-05,\n",
       "        2.30480117e-05, 1.89775947e-05, 1.85504517e-05, 4.09978477e-05,\n",
       "        3.12949157e-05, 3.98888249e-05, 4.87288674e-05, 1.37473941e-04,\n",
       "        1.53081826e-04, 1.37488625e-04, 6.10201089e-05, 5.82486207e-05,\n",
       "        1.37464943e-04, 5.88601393e-05, 8.61595430e-05, 5.25806812e-05,\n",
       "        3.49286799e-05, 1.76446882e-04, 5.88250871e-05, 9.59900440e-05,\n",
       "        1.81758166e-05, 1.79222822e-04, 5.26555893e-05, 1.25910071e-04]),\n",
       " 'param_colsample_bytree': masked_array(data=[0.8, 0.8, 0.8, 0.8, 0.8, 0.8, 0.8, 0.8, 0.8, 0.8, 0.8,\n",
       "                    0.8, 0.8, 0.8, 0.8, 0.8, 0.8, 0.8, 0.8, 0.8, 0.8, 0.8,\n",
       "                    0.8, 0.8, 0.9, 0.9, 0.9, 0.9, 0.9, 0.9, 0.9, 0.9, 0.9,\n",
       "                    0.9, 0.9, 0.9, 0.9, 0.9, 0.9, 0.9, 0.9, 0.9, 0.9, 0.9,\n",
       "                    0.9, 0.9, 0.9, 0.9],\n",
       "              mask=[False, False, False, False, False, False, False, False,\n",
       "                    False, False, False, False, False, False, False, False,\n",
       "                    False, False, False, False, False, False, False, False,\n",
       "                    False, False, False, False, False, False, False, False,\n",
       "                    False, False, False, False, False, False, False, False,\n",
       "                    False, False, False, False, False, False, False, False],\n",
       "        fill_value='?',\n",
       "             dtype=object),\n",
       " 'param_eval_metric': masked_array(data=['logloss', 'logloss', 'logloss', 'logloss', 'logloss',\n",
       "                    'logloss', 'logloss', 'logloss', 'logloss', 'logloss',\n",
       "                    'logloss', 'logloss', 'logloss', 'logloss', 'logloss',\n",
       "                    'logloss', 'logloss', 'logloss', 'logloss', 'logloss',\n",
       "                    'logloss', 'logloss', 'logloss', 'logloss', 'logloss',\n",
       "                    'logloss', 'logloss', 'logloss', 'logloss', 'logloss',\n",
       "                    'logloss', 'logloss', 'logloss', 'logloss', 'logloss',\n",
       "                    'logloss', 'logloss', 'logloss', 'logloss', 'logloss',\n",
       "                    'logloss', 'logloss', 'logloss', 'logloss', 'logloss',\n",
       "                    'logloss', 'logloss', 'logloss'],\n",
       "              mask=[False, False, False, False, False, False, False, False,\n",
       "                    False, False, False, False, False, False, False, False,\n",
       "                    False, False, False, False, False, False, False, False,\n",
       "                    False, False, False, False, False, False, False, False,\n",
       "                    False, False, False, False, False, False, False, False,\n",
       "                    False, False, False, False, False, False, False, False],\n",
       "        fill_value='?',\n",
       "             dtype=object),\n",
       " 'param_learning_rate': masked_array(data=[0.02, 0.02, 0.02, 0.02, 0.02, 0.02, 0.02, 0.02, 0.02,\n",
       "                    0.02, 0.02, 0.02, 0.04, 0.04, 0.04, 0.04, 0.04, 0.04,\n",
       "                    0.04, 0.04, 0.04, 0.04, 0.04, 0.04, 0.02, 0.02, 0.02,\n",
       "                    0.02, 0.02, 0.02, 0.02, 0.02, 0.02, 0.02, 0.02, 0.02,\n",
       "                    0.04, 0.04, 0.04, 0.04, 0.04, 0.04, 0.04, 0.04, 0.04,\n",
       "                    0.04, 0.04, 0.04],\n",
       "              mask=[False, False, False, False, False, False, False, False,\n",
       "                    False, False, False, False, False, False, False, False,\n",
       "                    False, False, False, False, False, False, False, False,\n",
       "                    False, False, False, False, False, False, False, False,\n",
       "                    False, False, False, False, False, False, False, False,\n",
       "                    False, False, False, False, False, False, False, False],\n",
       "        fill_value='?',\n",
       "             dtype=object),\n",
       " 'param_max_depth': masked_array(data=[2, 2, 2, 2, 2, 2, 4, 4, 4, 4, 4, 4, 2, 2, 2, 2, 2, 2,\n",
       "                    4, 4, 4, 4, 4, 4, 2, 2, 2, 2, 2, 2, 4, 4, 4, 4, 4, 4,\n",
       "                    2, 2, 2, 2, 2, 2, 4, 4, 4, 4, 4, 4],\n",
       "              mask=[False, False, False, False, False, False, False, False,\n",
       "                    False, False, False, False, False, False, False, False,\n",
       "                    False, False, False, False, False, False, False, False,\n",
       "                    False, False, False, False, False, False, False, False,\n",
       "                    False, False, False, False, False, False, False, False,\n",
       "                    False, False, False, False, False, False, False, False],\n",
       "        fill_value='?',\n",
       "             dtype=object),\n",
       " 'param_n_estimators': masked_array(data=[70, 70, 100, 100, 150, 150, 70, 70, 100, 100, 150, 150,\n",
       "                    70, 70, 100, 100, 150, 150, 70, 70, 100, 100, 150, 150,\n",
       "                    70, 70, 100, 100, 150, 150, 70, 70, 100, 100, 150, 150,\n",
       "                    70, 70, 100, 100, 150, 150, 70, 70, 100, 100, 150, 150],\n",
       "              mask=[False, False, False, False, False, False, False, False,\n",
       "                    False, False, False, False, False, False, False, False,\n",
       "                    False, False, False, False, False, False, False, False,\n",
       "                    False, False, False, False, False, False, False, False,\n",
       "                    False, False, False, False, False, False, False, False,\n",
       "                    False, False, False, False, False, False, False, False],\n",
       "        fill_value='?',\n",
       "             dtype=object),\n",
       " 'param_subsample': masked_array(data=[0.7, 0.8, 0.7, 0.8, 0.7, 0.8, 0.7, 0.8, 0.7, 0.8, 0.7,\n",
       "                    0.8, 0.7, 0.8, 0.7, 0.8, 0.7, 0.8, 0.7, 0.8, 0.7, 0.8,\n",
       "                    0.7, 0.8, 0.7, 0.8, 0.7, 0.8, 0.7, 0.8, 0.7, 0.8, 0.7,\n",
       "                    0.8, 0.7, 0.8, 0.7, 0.8, 0.7, 0.8, 0.7, 0.8, 0.7, 0.8,\n",
       "                    0.7, 0.8, 0.7, 0.8],\n",
       "              mask=[False, False, False, False, False, False, False, False,\n",
       "                    False, False, False, False, False, False, False, False,\n",
       "                    False, False, False, False, False, False, False, False,\n",
       "                    False, False, False, False, False, False, False, False,\n",
       "                    False, False, False, False, False, False, False, False,\n",
       "                    False, False, False, False, False, False, False, False],\n",
       "        fill_value='?',\n",
       "             dtype=object),\n",
       " 'params': [{'colsample_bytree': 0.8,\n",
       "   'eval_metric': 'logloss',\n",
       "   'learning_rate': 0.02,\n",
       "   'max_depth': 2,\n",
       "   'n_estimators': 70,\n",
       "   'subsample': 0.7},\n",
       "  {'colsample_bytree': 0.8,\n",
       "   'eval_metric': 'logloss',\n",
       "   'learning_rate': 0.02,\n",
       "   'max_depth': 2,\n",
       "   'n_estimators': 70,\n",
       "   'subsample': 0.8},\n",
       "  {'colsample_bytree': 0.8,\n",
       "   'eval_metric': 'logloss',\n",
       "   'learning_rate': 0.02,\n",
       "   'max_depth': 2,\n",
       "   'n_estimators': 100,\n",
       "   'subsample': 0.7},\n",
       "  {'colsample_bytree': 0.8,\n",
       "   'eval_metric': 'logloss',\n",
       "   'learning_rate': 0.02,\n",
       "   'max_depth': 2,\n",
       "   'n_estimators': 100,\n",
       "   'subsample': 0.8},\n",
       "  {'colsample_bytree': 0.8,\n",
       "   'eval_metric': 'logloss',\n",
       "   'learning_rate': 0.02,\n",
       "   'max_depth': 2,\n",
       "   'n_estimators': 150,\n",
       "   'subsample': 0.7},\n",
       "  {'colsample_bytree': 0.8,\n",
       "   'eval_metric': 'logloss',\n",
       "   'learning_rate': 0.02,\n",
       "   'max_depth': 2,\n",
       "   'n_estimators': 150,\n",
       "   'subsample': 0.8},\n",
       "  {'colsample_bytree': 0.8,\n",
       "   'eval_metric': 'logloss',\n",
       "   'learning_rate': 0.02,\n",
       "   'max_depth': 4,\n",
       "   'n_estimators': 70,\n",
       "   'subsample': 0.7},\n",
       "  {'colsample_bytree': 0.8,\n",
       "   'eval_metric': 'logloss',\n",
       "   'learning_rate': 0.02,\n",
       "   'max_depth': 4,\n",
       "   'n_estimators': 70,\n",
       "   'subsample': 0.8},\n",
       "  {'colsample_bytree': 0.8,\n",
       "   'eval_metric': 'logloss',\n",
       "   'learning_rate': 0.02,\n",
       "   'max_depth': 4,\n",
       "   'n_estimators': 100,\n",
       "   'subsample': 0.7},\n",
       "  {'colsample_bytree': 0.8,\n",
       "   'eval_metric': 'logloss',\n",
       "   'learning_rate': 0.02,\n",
       "   'max_depth': 4,\n",
       "   'n_estimators': 100,\n",
       "   'subsample': 0.8},\n",
       "  {'colsample_bytree': 0.8,\n",
       "   'eval_metric': 'logloss',\n",
       "   'learning_rate': 0.02,\n",
       "   'max_depth': 4,\n",
       "   'n_estimators': 150,\n",
       "   'subsample': 0.7},\n",
       "  {'colsample_bytree': 0.8,\n",
       "   'eval_metric': 'logloss',\n",
       "   'learning_rate': 0.02,\n",
       "   'max_depth': 4,\n",
       "   'n_estimators': 150,\n",
       "   'subsample': 0.8},\n",
       "  {'colsample_bytree': 0.8,\n",
       "   'eval_metric': 'logloss',\n",
       "   'learning_rate': 0.04,\n",
       "   'max_depth': 2,\n",
       "   'n_estimators': 70,\n",
       "   'subsample': 0.7},\n",
       "  {'colsample_bytree': 0.8,\n",
       "   'eval_metric': 'logloss',\n",
       "   'learning_rate': 0.04,\n",
       "   'max_depth': 2,\n",
       "   'n_estimators': 70,\n",
       "   'subsample': 0.8},\n",
       "  {'colsample_bytree': 0.8,\n",
       "   'eval_metric': 'logloss',\n",
       "   'learning_rate': 0.04,\n",
       "   'max_depth': 2,\n",
       "   'n_estimators': 100,\n",
       "   'subsample': 0.7},\n",
       "  {'colsample_bytree': 0.8,\n",
       "   'eval_metric': 'logloss',\n",
       "   'learning_rate': 0.04,\n",
       "   'max_depth': 2,\n",
       "   'n_estimators': 100,\n",
       "   'subsample': 0.8},\n",
       "  {'colsample_bytree': 0.8,\n",
       "   'eval_metric': 'logloss',\n",
       "   'learning_rate': 0.04,\n",
       "   'max_depth': 2,\n",
       "   'n_estimators': 150,\n",
       "   'subsample': 0.7},\n",
       "  {'colsample_bytree': 0.8,\n",
       "   'eval_metric': 'logloss',\n",
       "   'learning_rate': 0.04,\n",
       "   'max_depth': 2,\n",
       "   'n_estimators': 150,\n",
       "   'subsample': 0.8},\n",
       "  {'colsample_bytree': 0.8,\n",
       "   'eval_metric': 'logloss',\n",
       "   'learning_rate': 0.04,\n",
       "   'max_depth': 4,\n",
       "   'n_estimators': 70,\n",
       "   'subsample': 0.7},\n",
       "  {'colsample_bytree': 0.8,\n",
       "   'eval_metric': 'logloss',\n",
       "   'learning_rate': 0.04,\n",
       "   'max_depth': 4,\n",
       "   'n_estimators': 70,\n",
       "   'subsample': 0.8},\n",
       "  {'colsample_bytree': 0.8,\n",
       "   'eval_metric': 'logloss',\n",
       "   'learning_rate': 0.04,\n",
       "   'max_depth': 4,\n",
       "   'n_estimators': 100,\n",
       "   'subsample': 0.7},\n",
       "  {'colsample_bytree': 0.8,\n",
       "   'eval_metric': 'logloss',\n",
       "   'learning_rate': 0.04,\n",
       "   'max_depth': 4,\n",
       "   'n_estimators': 100,\n",
       "   'subsample': 0.8},\n",
       "  {'colsample_bytree': 0.8,\n",
       "   'eval_metric': 'logloss',\n",
       "   'learning_rate': 0.04,\n",
       "   'max_depth': 4,\n",
       "   'n_estimators': 150,\n",
       "   'subsample': 0.7},\n",
       "  {'colsample_bytree': 0.8,\n",
       "   'eval_metric': 'logloss',\n",
       "   'learning_rate': 0.04,\n",
       "   'max_depth': 4,\n",
       "   'n_estimators': 150,\n",
       "   'subsample': 0.8},\n",
       "  {'colsample_bytree': 0.9,\n",
       "   'eval_metric': 'logloss',\n",
       "   'learning_rate': 0.02,\n",
       "   'max_depth': 2,\n",
       "   'n_estimators': 70,\n",
       "   'subsample': 0.7},\n",
       "  {'colsample_bytree': 0.9,\n",
       "   'eval_metric': 'logloss',\n",
       "   'learning_rate': 0.02,\n",
       "   'max_depth': 2,\n",
       "   'n_estimators': 70,\n",
       "   'subsample': 0.8},\n",
       "  {'colsample_bytree': 0.9,\n",
       "   'eval_metric': 'logloss',\n",
       "   'learning_rate': 0.02,\n",
       "   'max_depth': 2,\n",
       "   'n_estimators': 100,\n",
       "   'subsample': 0.7},\n",
       "  {'colsample_bytree': 0.9,\n",
       "   'eval_metric': 'logloss',\n",
       "   'learning_rate': 0.02,\n",
       "   'max_depth': 2,\n",
       "   'n_estimators': 100,\n",
       "   'subsample': 0.8},\n",
       "  {'colsample_bytree': 0.9,\n",
       "   'eval_metric': 'logloss',\n",
       "   'learning_rate': 0.02,\n",
       "   'max_depth': 2,\n",
       "   'n_estimators': 150,\n",
       "   'subsample': 0.7},\n",
       "  {'colsample_bytree': 0.9,\n",
       "   'eval_metric': 'logloss',\n",
       "   'learning_rate': 0.02,\n",
       "   'max_depth': 2,\n",
       "   'n_estimators': 150,\n",
       "   'subsample': 0.8},\n",
       "  {'colsample_bytree': 0.9,\n",
       "   'eval_metric': 'logloss',\n",
       "   'learning_rate': 0.02,\n",
       "   'max_depth': 4,\n",
       "   'n_estimators': 70,\n",
       "   'subsample': 0.7},\n",
       "  {'colsample_bytree': 0.9,\n",
       "   'eval_metric': 'logloss',\n",
       "   'learning_rate': 0.02,\n",
       "   'max_depth': 4,\n",
       "   'n_estimators': 70,\n",
       "   'subsample': 0.8},\n",
       "  {'colsample_bytree': 0.9,\n",
       "   'eval_metric': 'logloss',\n",
       "   'learning_rate': 0.02,\n",
       "   'max_depth': 4,\n",
       "   'n_estimators': 100,\n",
       "   'subsample': 0.7},\n",
       "  {'colsample_bytree': 0.9,\n",
       "   'eval_metric': 'logloss',\n",
       "   'learning_rate': 0.02,\n",
       "   'max_depth': 4,\n",
       "   'n_estimators': 100,\n",
       "   'subsample': 0.8},\n",
       "  {'colsample_bytree': 0.9,\n",
       "   'eval_metric': 'logloss',\n",
       "   'learning_rate': 0.02,\n",
       "   'max_depth': 4,\n",
       "   'n_estimators': 150,\n",
       "   'subsample': 0.7},\n",
       "  {'colsample_bytree': 0.9,\n",
       "   'eval_metric': 'logloss',\n",
       "   'learning_rate': 0.02,\n",
       "   'max_depth': 4,\n",
       "   'n_estimators': 150,\n",
       "   'subsample': 0.8},\n",
       "  {'colsample_bytree': 0.9,\n",
       "   'eval_metric': 'logloss',\n",
       "   'learning_rate': 0.04,\n",
       "   'max_depth': 2,\n",
       "   'n_estimators': 70,\n",
       "   'subsample': 0.7},\n",
       "  {'colsample_bytree': 0.9,\n",
       "   'eval_metric': 'logloss',\n",
       "   'learning_rate': 0.04,\n",
       "   'max_depth': 2,\n",
       "   'n_estimators': 70,\n",
       "   'subsample': 0.8},\n",
       "  {'colsample_bytree': 0.9,\n",
       "   'eval_metric': 'logloss',\n",
       "   'learning_rate': 0.04,\n",
       "   'max_depth': 2,\n",
       "   'n_estimators': 100,\n",
       "   'subsample': 0.7},\n",
       "  {'colsample_bytree': 0.9,\n",
       "   'eval_metric': 'logloss',\n",
       "   'learning_rate': 0.04,\n",
       "   'max_depth': 2,\n",
       "   'n_estimators': 100,\n",
       "   'subsample': 0.8},\n",
       "  {'colsample_bytree': 0.9,\n",
       "   'eval_metric': 'logloss',\n",
       "   'learning_rate': 0.04,\n",
       "   'max_depth': 2,\n",
       "   'n_estimators': 150,\n",
       "   'subsample': 0.7},\n",
       "  {'colsample_bytree': 0.9,\n",
       "   'eval_metric': 'logloss',\n",
       "   'learning_rate': 0.04,\n",
       "   'max_depth': 2,\n",
       "   'n_estimators': 150,\n",
       "   'subsample': 0.8},\n",
       "  {'colsample_bytree': 0.9,\n",
       "   'eval_metric': 'logloss',\n",
       "   'learning_rate': 0.04,\n",
       "   'max_depth': 4,\n",
       "   'n_estimators': 70,\n",
       "   'subsample': 0.7},\n",
       "  {'colsample_bytree': 0.9,\n",
       "   'eval_metric': 'logloss',\n",
       "   'learning_rate': 0.04,\n",
       "   'max_depth': 4,\n",
       "   'n_estimators': 70,\n",
       "   'subsample': 0.8},\n",
       "  {'colsample_bytree': 0.9,\n",
       "   'eval_metric': 'logloss',\n",
       "   'learning_rate': 0.04,\n",
       "   'max_depth': 4,\n",
       "   'n_estimators': 100,\n",
       "   'subsample': 0.7},\n",
       "  {'colsample_bytree': 0.9,\n",
       "   'eval_metric': 'logloss',\n",
       "   'learning_rate': 0.04,\n",
       "   'max_depth': 4,\n",
       "   'n_estimators': 100,\n",
       "   'subsample': 0.8},\n",
       "  {'colsample_bytree': 0.9,\n",
       "   'eval_metric': 'logloss',\n",
       "   'learning_rate': 0.04,\n",
       "   'max_depth': 4,\n",
       "   'n_estimators': 150,\n",
       "   'subsample': 0.7},\n",
       "  {'colsample_bytree': 0.9,\n",
       "   'eval_metric': 'logloss',\n",
       "   'learning_rate': 0.04,\n",
       "   'max_depth': 4,\n",
       "   'n_estimators': 150,\n",
       "   'subsample': 0.8}],\n",
       " 'split0_test_score': array([nan, nan, nan, nan, nan, nan, nan, nan, nan, nan, nan, nan, nan,\n",
       "        nan, nan, nan, nan, nan, nan, nan, nan, nan, nan, nan, nan, nan,\n",
       "        nan, nan, nan, nan, nan, nan, nan, nan, nan, nan, nan, nan, nan,\n",
       "        nan, nan, nan, nan, nan, nan, nan, nan, nan]),\n",
       " 'split1_test_score': array([nan, nan, nan, nan, nan, nan, nan, nan, nan, nan, nan, nan, nan,\n",
       "        nan, nan, nan, nan, nan, nan, nan, nan, nan, nan, nan, nan, nan,\n",
       "        nan, nan, nan, nan, nan, nan, nan, nan, nan, nan, nan, nan, nan,\n",
       "        nan, nan, nan, nan, nan, nan, nan, nan, nan]),\n",
       " 'split2_test_score': array([nan, nan, nan, nan, nan, nan, nan, nan, nan, nan, nan, nan, nan,\n",
       "        nan, nan, nan, nan, nan, nan, nan, nan, nan, nan, nan, nan, nan,\n",
       "        nan, nan, nan, nan, nan, nan, nan, nan, nan, nan, nan, nan, nan,\n",
       "        nan, nan, nan, nan, nan, nan, nan, nan, nan]),\n",
       " 'split3_test_score': array([nan, nan, nan, nan, nan, nan, nan, nan, nan, nan, nan, nan, nan,\n",
       "        nan, nan, nan, nan, nan, nan, nan, nan, nan, nan, nan, nan, nan,\n",
       "        nan, nan, nan, nan, nan, nan, nan, nan, nan, nan, nan, nan, nan,\n",
       "        nan, nan, nan, nan, nan, nan, nan, nan, nan]),\n",
       " 'split4_test_score': array([nan, nan, nan, nan, nan, nan, nan, nan, nan, nan, nan, nan, nan,\n",
       "        nan, nan, nan, nan, nan, nan, nan, nan, nan, nan, nan, nan, nan,\n",
       "        nan, nan, nan, nan, nan, nan, nan, nan, nan, nan, nan, nan, nan,\n",
       "        nan, nan, nan, nan, nan, nan, nan, nan, nan]),\n",
       " 'split5_test_score': array([nan, nan, nan, nan, nan, nan, nan, nan, nan, nan, nan, nan, nan,\n",
       "        nan, nan, nan, nan, nan, nan, nan, nan, nan, nan, nan, nan, nan,\n",
       "        nan, nan, nan, nan, nan, nan, nan, nan, nan, nan, nan, nan, nan,\n",
       "        nan, nan, nan, nan, nan, nan, nan, nan, nan]),\n",
       " 'split6_test_score': array([nan, nan, nan, nan, nan, nan, nan, nan, nan, nan, nan, nan, nan,\n",
       "        nan, nan, nan, nan, nan, nan, nan, nan, nan, nan, nan, nan, nan,\n",
       "        nan, nan, nan, nan, nan, nan, nan, nan, nan, nan, nan, nan, nan,\n",
       "        nan, nan, nan, nan, nan, nan, nan, nan, nan]),\n",
       " 'split7_test_score': array([nan, nan, nan, nan, nan, nan, nan, nan, nan, nan, nan, nan, nan,\n",
       "        nan, nan, nan, nan, nan, nan, nan, nan, nan, nan, nan, nan, nan,\n",
       "        nan, nan, nan, nan, nan, nan, nan, nan, nan, nan, nan, nan, nan,\n",
       "        nan, nan, nan, nan, nan, nan, nan, nan, nan]),\n",
       " 'split8_test_score': array([nan, nan, nan, nan, nan, nan, nan, nan, nan, nan, nan, nan, nan,\n",
       "        nan, nan, nan, nan, nan, nan, nan, nan, nan, nan, nan, nan, nan,\n",
       "        nan, nan, nan, nan, nan, nan, nan, nan, nan, nan, nan, nan, nan,\n",
       "        nan, nan, nan, nan, nan, nan, nan, nan, nan]),\n",
       " 'split9_test_score': array([nan, nan, nan, nan, nan, nan, nan, nan, nan, nan, nan, nan, nan,\n",
       "        nan, nan, nan, nan, nan, nan, nan, nan, nan, nan, nan, nan, nan,\n",
       "        nan, nan, nan, nan, nan, nan, nan, nan, nan, nan, nan, nan, nan,\n",
       "        nan, nan, nan, nan, nan, nan, nan, nan, nan]),\n",
       " 'mean_test_score': array([nan, nan, nan, nan, nan, nan, nan, nan, nan, nan, nan, nan, nan,\n",
       "        nan, nan, nan, nan, nan, nan, nan, nan, nan, nan, nan, nan, nan,\n",
       "        nan, nan, nan, nan, nan, nan, nan, nan, nan, nan, nan, nan, nan,\n",
       "        nan, nan, nan, nan, nan, nan, nan, nan, nan]),\n",
       " 'std_test_score': array([nan, nan, nan, nan, nan, nan, nan, nan, nan, nan, nan, nan, nan,\n",
       "        nan, nan, nan, nan, nan, nan, nan, nan, nan, nan, nan, nan, nan,\n",
       "        nan, nan, nan, nan, nan, nan, nan, nan, nan, nan, nan, nan, nan,\n",
       "        nan, nan, nan, nan, nan, nan, nan, nan, nan]),\n",
       " 'rank_test_score': array([ 1, 26, 27, 28, 29, 30, 31, 32, 33, 34, 35, 36, 37, 38, 39, 40, 41,\n",
       "        42, 43, 44, 45, 46, 25, 24, 23, 11,  2,  3,  4,  5,  6,  7,  8,  9,\n",
       "        10, 12, 22, 13, 14, 15, 16, 17, 18, 19, 20, 21, 47, 48],\n",
       "       dtype=int32),\n",
       " 'split0_train_score': array([nan, nan, nan, nan, nan, nan, nan, nan, nan, nan, nan, nan, nan,\n",
       "        nan, nan, nan, nan, nan, nan, nan, nan, nan, nan, nan, nan, nan,\n",
       "        nan, nan, nan, nan, nan, nan, nan, nan, nan, nan, nan, nan, nan,\n",
       "        nan, nan, nan, nan, nan, nan, nan, nan, nan]),\n",
       " 'split1_train_score': array([nan, nan, nan, nan, nan, nan, nan, nan, nan, nan, nan, nan, nan,\n",
       "        nan, nan, nan, nan, nan, nan, nan, nan, nan, nan, nan, nan, nan,\n",
       "        nan, nan, nan, nan, nan, nan, nan, nan, nan, nan, nan, nan, nan,\n",
       "        nan, nan, nan, nan, nan, nan, nan, nan, nan]),\n",
       " 'split2_train_score': array([nan, nan, nan, nan, nan, nan, nan, nan, nan, nan, nan, nan, nan,\n",
       "        nan, nan, nan, nan, nan, nan, nan, nan, nan, nan, nan, nan, nan,\n",
       "        nan, nan, nan, nan, nan, nan, nan, nan, nan, nan, nan, nan, nan,\n",
       "        nan, nan, nan, nan, nan, nan, nan, nan, nan]),\n",
       " 'split3_train_score': array([nan, nan, nan, nan, nan, nan, nan, nan, nan, nan, nan, nan, nan,\n",
       "        nan, nan, nan, nan, nan, nan, nan, nan, nan, nan, nan, nan, nan,\n",
       "        nan, nan, nan, nan, nan, nan, nan, nan, nan, nan, nan, nan, nan,\n",
       "        nan, nan, nan, nan, nan, nan, nan, nan, nan]),\n",
       " 'split4_train_score': array([nan, nan, nan, nan, nan, nan, nan, nan, nan, nan, nan, nan, nan,\n",
       "        nan, nan, nan, nan, nan, nan, nan, nan, nan, nan, nan, nan, nan,\n",
       "        nan, nan, nan, nan, nan, nan, nan, nan, nan, nan, nan, nan, nan,\n",
       "        nan, nan, nan, nan, nan, nan, nan, nan, nan]),\n",
       " 'split5_train_score': array([nan, nan, nan, nan, nan, nan, nan, nan, nan, nan, nan, nan, nan,\n",
       "        nan, nan, nan, nan, nan, nan, nan, nan, nan, nan, nan, nan, nan,\n",
       "        nan, nan, nan, nan, nan, nan, nan, nan, nan, nan, nan, nan, nan,\n",
       "        nan, nan, nan, nan, nan, nan, nan, nan, nan]),\n",
       " 'split6_train_score': array([nan, nan, nan, nan, nan, nan, nan, nan, nan, nan, nan, nan, nan,\n",
       "        nan, nan, nan, nan, nan, nan, nan, nan, nan, nan, nan, nan, nan,\n",
       "        nan, nan, nan, nan, nan, nan, nan, nan, nan, nan, nan, nan, nan,\n",
       "        nan, nan, nan, nan, nan, nan, nan, nan, nan]),\n",
       " 'split7_train_score': array([nan, nan, nan, nan, nan, nan, nan, nan, nan, nan, nan, nan, nan,\n",
       "        nan, nan, nan, nan, nan, nan, nan, nan, nan, nan, nan, nan, nan,\n",
       "        nan, nan, nan, nan, nan, nan, nan, nan, nan, nan, nan, nan, nan,\n",
       "        nan, nan, nan, nan, nan, nan, nan, nan, nan]),\n",
       " 'split8_train_score': array([nan, nan, nan, nan, nan, nan, nan, nan, nan, nan, nan, nan, nan,\n",
       "        nan, nan, nan, nan, nan, nan, nan, nan, nan, nan, nan, nan, nan,\n",
       "        nan, nan, nan, nan, nan, nan, nan, nan, nan, nan, nan, nan, nan,\n",
       "        nan, nan, nan, nan, nan, nan, nan, nan, nan]),\n",
       " 'split9_train_score': array([nan, nan, nan, nan, nan, nan, nan, nan, nan, nan, nan, nan, nan,\n",
       "        nan, nan, nan, nan, nan, nan, nan, nan, nan, nan, nan, nan, nan,\n",
       "        nan, nan, nan, nan, nan, nan, nan, nan, nan, nan, nan, nan, nan,\n",
       "        nan, nan, nan, nan, nan, nan, nan, nan, nan]),\n",
       " 'mean_train_score': array([nan, nan, nan, nan, nan, nan, nan, nan, nan, nan, nan, nan, nan,\n",
       "        nan, nan, nan, nan, nan, nan, nan, nan, nan, nan, nan, nan, nan,\n",
       "        nan, nan, nan, nan, nan, nan, nan, nan, nan, nan, nan, nan, nan,\n",
       "        nan, nan, nan, nan, nan, nan, nan, nan, nan]),\n",
       " 'std_train_score': array([nan, nan, nan, nan, nan, nan, nan, nan, nan, nan, nan, nan, nan,\n",
       "        nan, nan, nan, nan, nan, nan, nan, nan, nan, nan, nan, nan, nan,\n",
       "        nan, nan, nan, nan, nan, nan, nan, nan, nan, nan, nan, nan, nan,\n",
       "        nan, nan, nan, nan, nan, nan, nan, nan, nan])}"
      ]
     },
     "execution_count": 13,
     "metadata": {},
     "output_type": "execute_result"
    }
   ],
   "source": [
    "gs_cl.cv_results_"
   ]
  },
  {
   "cell_type": "code",
   "execution_count": 164,
   "metadata": {},
   "outputs": [],
   "source": [
    "res_accuracy_cl = []\n",
    "res_mse_cl = []\n",
    "for x in range(10):\n",
    "    res_accuracy_cl.append(gs_cl.cv_results_['split{0}_test_accuracy'.format(x)].mean())\n",
    "    res_mse_cl.append(gs_cl.cv_results_['split{0}_test_mse'.format(x)].mean())"
   ]
  },
  {
   "cell_type": "code",
   "execution_count": 165,
   "metadata": {},
   "outputs": [
    {
     "data": {
      "text/plain": [
       "[<matplotlib.lines.Line2D at 0x7f920624ba90>]"
      ]
     },
     "execution_count": 165,
     "metadata": {},
     "output_type": "execute_result"
    },
    {
     "data": {
      "image/png": "[encoded data removed]",
      "text/plain": [
       "<Figure size 864x432 with 1 Axes>"
      ]
     },
     "metadata": {
      "needs_background": "light"
     },
     "output_type": "display_data"
    }
   ],
   "source": [
    "plt.figure(figsize=(12,6))\n",
    "plt.xlabel(\"test_period\")\n",
    "plt.ylabel(\"accuracy\")\n",
    "plt.plot([x for x in range(1, 11)], res_accuracy_cl, \"o-\", color='green')"
   ]
  },
  {
   "cell_type": "code",
   "execution_count": 181,
   "metadata": {},
   "outputs": [
    {
     "data": {
      "text/plain": [
       "0.6810177244139508"
      ]
     },
     "execution_count": 181,
     "metadata": {},
     "output_type": "execute_result"
    }
   ],
   "source": [
    "np.array(res_accuracy_cl).mean()"
   ]
  },
  {
   "cell_type": "code",
   "execution_count": 166,
   "metadata": {},
   "outputs": [
    {
     "data": {
      "text/plain": [
       "[<matplotlib.lines.Line2D at 0x7f92062801d0>]"
      ]
     },
     "execution_count": 166,
     "metadata": {},
     "output_type": "execute_result"
    },
    {
     "data": {
      "image/png": "[encoded data removed]",
      "text/plain": [
       "<Figure size 864x432 with 1 Axes>"
      ]
     },
     "metadata": {
      "needs_background": "light"
     },
     "output_type": "display_data"
    }
   ],
   "source": [
    "plt.figure(figsize=(12,6))\n",
    "plt.xlabel(\"test_period\")\n",
    "plt.ylabel(\"mse\")\n",
    "plt.plot([x for x in range(1, 11)], res_mse_cl, \"o-\", color='orange')"
   ]
  },
  {
   "cell_type": "markdown",
   "metadata": {},
   "source": [
    "## XGBRegressor"
   ]
  },
  {
   "cell_type": "code",
   "execution_count": 13,
   "metadata": {},
   "outputs": [
    {
     "data": {
      "text/plain": [
       "GridSearchCV(cv=TimeSeriesSplit(gap=0, max_train_size=None, n_splits=10, test_size=None),\n",
       "             estimator=XGBRegressor(base_score=None, booster=None,\n",
       "                                    colsample_bylevel=None,\n",
       "                                    colsample_bynode=None,\n",
       "                                    colsample_bytree=None, gamma=None,\n",
       "                                    gpu_id=None, importance_type='gain',\n",
       "                                    interaction_constraints=None,\n",
       "                                    learning_rate=None, max_delta_step=None,\n",
       "                                    max_depth=None, min_child_weight...\n",
       "                                    reg_alpha=None, reg_lambda=None,\n",
       "                                    scale_pos_weight=None, subsample=None,\n",
       "                                    tree_method=None, validate_parameters=None,\n",
       "                                    verbosity=None),\n",
       "             param_grid={'colsample_bytree': [0.8],\n",
       "                         'learning_rate': [0.01, 0.02], 'max_depth': [1, 2],\n",
       "                         'n_estimators': [150, 250],\n",
       "                         'subsample': [0.7, 0.8, 0.9]},\n",
       "             refit=False, return_train_score=True,\n",
       "             scoring={'accuracy': make_scorer(my_accuracy),\n",
       "                      'mse': 'neg_mean_squared_error'})"
      ]
     },
     "execution_count": 13,
     "metadata": {},
     "output_type": "execute_result"
    }
   ],
   "source": [
    "metric_accuracy = make_scorer(my_accuracy)\n",
    "grid_params = {\n",
    "    'learning_rate': [0.01, 0.02], \n",
    "    'max_depth': [1, 2],\n",
    "    'subsample': [0.7, 0.8, 0.9],\n",
    "    'colsample_bytree': [0.8],\n",
    "    'n_estimators': [150, 250]\n",
    "}\n",
    "\n",
    "scoring = {'accuracy': metric_accuracy, 'mse': 'neg_mean_squared_error'}\n",
    "cv = TimeSeriesSplit(n_splits=10)\n",
    "gs_reg = GridSearchCV(xgb.XGBRegressor(n_jobs=3), grid_params, cv=cv, scoring=scoring, return_train_score=True, refit=False)\n",
    "gs_reg.fit(X_train,y_train)"
   ]
  },
  {
   "cell_type": "code",
   "execution_count": 155,
   "metadata": {},
   "outputs": [],
   "source": [
    "res_accuracy = []\n",
    "res_mse = []\n",
    "for x in range(10):\n",
    "    res_accuracy.append(gs_reg.cv_results_['split{0}_test_accuracy'.format(x)].mean())\n",
    "    res_mse.append(gs_reg.cv_results_['split{0}_test_mse'.format(x)].mean())"
   ]
  },
  {
   "cell_type": "code",
   "execution_count": 158,
   "metadata": {},
   "outputs": [
    {
     "data": {
      "text/plain": [
       "[<matplotlib.lines.Line2D at 0x7f920638bb38>]"
      ]
     },
     "execution_count": 158,
     "metadata": {},
     "output_type": "execute_result"
    },
    {
     "data": {
      "image/png": "[encoded data removed]",
      "text/plain": [
       "<Figure size 864x432 with 1 Axes>"
      ]
     },
     "metadata": {
      "needs_background": "light"
     },
     "output_type": "display_data"
    }
   ],
   "source": [
    "plt.figure(figsize=(12,6))\n",
    "plt.xlabel(\"test_period\")\n",
    "plt.ylabel(\"accuracy\")\n",
    "plt.plot([x for x in range(1, 11)], res_accuracy, \"o-\", color='green')"
   ]
  },
  {
   "cell_type": "code",
   "execution_count": 173,
   "metadata": {},
   "outputs": [
    {
     "data": {
      "text/plain": [
       "[<matplotlib.lines.Line2D at 0x7f9208fc04e0>]"
      ]
     },
     "execution_count": 173,
     "metadata": {},
     "output_type": "execute_result"
    },
    {
     "data": {
      "image/png": "[encoded data removed]",
      "text/plain": [
       "<Figure size 864x432 with 1 Axes>"
      ]
     },
     "metadata": {
      "needs_background": "light"
     },
     "output_type": "display_data"
    }
   ],
   "source": [
    "plt.figure(figsize=(12,6))\n",
    "plt.xlabel(\"test_period\")\n",
    "plt.ylabel(\"mse\")\n",
    "plt.plot([x for x in range(1, 11)], res_mse, \"o-\", color='orange')"
   ]
  },
  {
   "cell_type": "code",
   "execution_count": null,
   "metadata": {},
   "outputs": [],
   "source": []
  }
 ],
 "metadata": {
  "kernelspec": {
   "display_name": "Python 3",
   "language": "python",
   "name": "python3"
  },
  "language_info": {
   "codemirror_mode": {
    "name": "ipython",
    "version": 3
   },
   "file_extension": ".py",
   "mimetype": "text/x-python",
   "name": "python",
   "nbconvert_exporter": "python",
   "pygments_lexer": "ipython3",
   "version": "3.7.3"
  }
 },
 "nbformat": 4,
 "nbformat_minor": 2
}
