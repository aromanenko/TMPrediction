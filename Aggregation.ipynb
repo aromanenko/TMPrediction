{
 "cells": [
  {
   "cell_type": "code",
   "execution_count": 599,
   "metadata": {},
   "outputs": [],
   "source": [
    "import numpy as np\n",
    "import pandas as pd\n",
    "import matplotlib.pyplot as plt"
   ]
  },
  {
   "cell_type": "code",
   "execution_count": 600,
   "metadata": {},
   "outputs": [],
   "source": [
    "def loss_function(res, pred):\n",
    "    return (pred[0] - res) ** 2 + (pred[1] - abs(res - 1)) ** 2\n",
    "\n",
    "def aggregate(res, pred, loss_func = loss_function, weights = None):\n",
    "    T = len(res)\n",
    "    K = len(pred)\n",
    "    if not weights:\n",
    "        weights = np.full(K, 1/K)\n",
    "    agg_pred = np.zeros(2 * T).reshape(T, 2)\n",
    "    for t in range(1, T):\n",
    "        gamma = pred[:,t]\n",
    "        def G(omega):\n",
    "            return -np.log(np.inner(weights, np.exp(-loss_func(omega, np.transpose(gamma)))))\n",
    "        s = 2\n",
    "        s1 = (G(0) + G(1)) / 2 + 1\n",
    "        s2 = (G(0) + G(1)) / 2 - 1\n",
    "        if s1 > G(0) and s1 > G(1):\n",
    "            s = s1\n",
    "        if s2 < G(0) and s2 < G(1):\n",
    "            s = s2\n",
    "        weights = (weights * np.exp(-loss_func(res[t], np.transpose(gamma)))) / np.sum(weights)\n",
    "        agg_pred[t] = np.array([abs(s - G(0)) / 2, abs(s - G(1)) / 2])\n",
    "        agg_pred[t] = agg_pred[t] / np.sum(agg_pred[t])\n",
    "    return agg_pred\n",
    "\n",
    "\n",
    "    "
   ]
  },
  {
   "cell_type": "code",
   "execution_count": 601,
   "metadata": {},
   "outputs": [],
   "source": [
    "df = pd.read_pickle('matches.pkl')"
   ]
  },
  {
   "cell_type": "code",
   "execution_count": 602,
   "metadata": {},
   "outputs": [],
   "source": [
    "res = np.array(df[df['k1'].notna()]['player1_win'])\n",
    "k1 = 1 / np.array(df[df['k1'].notna()]['k1'])\n",
    "k2 = 1 - k1\n",
    "cfs = np.transpose([k1, k2])\n",
    "r1 = np.random.rand(len(k1))\n",
    "r2 = 1 - r1\n",
    "rand_pred = np.transpose(np.array([r1, r2]))\n",
    "pred = np.array([rand_pred, cfs])"
   ]
  },
  {
   "cell_type": "code",
   "execution_count": 603,
   "metadata": {},
   "outputs": [
    {
     "data": {
      "text/plain": [
       "array([[0.29411765, 0.70588235],\n",
       "       [0.92592593, 0.07407407],\n",
       "       [0.11111111, 0.88888889],\n",
       "       ...,\n",
       "       [0.42194093, 0.57805907],\n",
       "       [0.58139535, 0.41860465],\n",
       "       [0.60240964, 0.39759036]])"
      ]
     },
     "execution_count": 603,
     "metadata": {},
     "output_type": "execute_result"
    }
   ],
   "source": [
    "cfs"
   ]
  },
  {
   "cell_type": "code",
   "execution_count": 604,
   "metadata": {},
   "outputs": [
    {
     "data": {
      "text/plain": [
       "array([[0.        , 0.        ],\n",
       "       [0.64126025, 0.35873975],\n",
       "       [0.0529288 , 0.9470712 ],\n",
       "       ...,\n",
       "       [0.45036309, 0.54963691],\n",
       "       [0.61932088, 0.38067912],\n",
       "       [0.60604744, 0.39395256]])"
      ]
     },
     "execution_count": 604,
     "metadata": {},
     "output_type": "execute_result"
    }
   ],
   "source": [
    "aggregate(res, pred)"
   ]
  },
  {
   "cell_type": "code",
   "execution_count": 605,
   "metadata": {},
   "outputs": [],
   "source": [
    "res = np.array(df[df['k1'].notna()]['player1_win'])\n",
    "k1 = 1 / np.array(df[df['k1'].notna()]['k1'])\n",
    "k2 = 1 - k1\n",
    "cfs = np.transpose([k1, k2])\n",
    "r1 = np.random.rand(len(k1))\n",
    "r2 = 1 - r1\n",
    "rand_pred = np.transpose(np.array([r1, r2]))\n",
    "magic_predict_1 =  res\n",
    "magic_predict_2 = abs(res - 1)\n",
    "magic_predict = np.transpose(np.array([magic_predict_1, magic_predict_2]))\n",
    "pred = np.array([magic_predict, cfs, rand_pred])\n",
    "#bug with exelent prediction?"
   ]
  },
  {
   "cell_type": "code",
   "execution_count": 606,
   "metadata": {},
   "outputs": [
    {
     "data": {
      "text/plain": [
       "array([[0.        , 0.        ],\n",
       "       [0.96175096, 0.03824904],\n",
       "       [0.05669099, 0.94330901],\n",
       "       ...,\n",
       "       [0.        , 1.        ],\n",
       "       [0.        , 1.        ],\n",
       "       [0.        , 1.        ]])"
      ]
     },
     "execution_count": 606,
     "metadata": {},
     "output_type": "execute_result"
    }
   ],
   "source": [
    "aggregate(res, pred)"
   ]
  },
  {
   "cell_type": "code",
   "execution_count": 614,
   "metadata": {},
   "outputs": [],
   "source": [
    "res = np.array(df[df['k1'].notna()]['player1_win'])\n",
    "k1 = 1 / np.array(df[df['k1'].notna()]['k1'])\n",
    "k2 = 1 - k1\n",
    "cfs = np.transpose([k1, k2])\n",
    "r1 = np.random.rand(len(k1))\n",
    "r2 = 1 - r1\n",
    "rand_pred = np.transpose(np.array([r1, r2]))\n",
    "magic_predict_1 =  abs(res - 0.01)\n",
    "magic_predict_2 = abs(res - 0.99)\n",
    "magic_predict = np.transpose(np.array([magic_predict_1, magic_predict_2]))\n",
    "pred = np.array([magic_predict, cfs, rand_pred])\n"
   ]
  },
  {
   "cell_type": "code",
   "execution_count": 615,
   "metadata": {},
   "outputs": [
    {
     "data": {
      "text/plain": [
       "array([[0.        , 0.        ],\n",
       "       [0.80414753, 0.19585247],\n",
       "       [0.24420169, 0.75579831],\n",
       "       ...,\n",
       "       [0.99      , 0.01      ],\n",
       "       [0.99      , 0.01      ],\n",
       "       [0.99      , 0.01      ]])"
      ]
     },
     "execution_count": 615,
     "metadata": {},
     "output_type": "execute_result"
    }
   ],
   "source": [
    "aggregate(res, pred)"
   ]
  },
  {
   "cell_type": "code",
   "execution_count": 607,
   "metadata": {},
   "outputs": [
    {
     "data": {
      "text/plain": [
       "array([0, 1, 0, ..., 1, 1, 1], dtype=int64)"
      ]
     },
     "execution_count": 607,
     "metadata": {},
     "output_type": "execute_result"
    }
   ],
   "source": [
    "res"
   ]
  }
 ],
 "metadata": {
  "kernelspec": {
   "display_name": "Python 3",
   "language": "python",
   "name": "python3"
  },
  "language_info": {
   "codemirror_mode": {
    "name": "ipython",
    "version": 3
   },
   "file_extension": ".py",
   "mimetype": "text/x-python",
   "name": "python",
   "nbconvert_exporter": "python",
   "pygments_lexer": "ipython3",
   "version": "3.7.4"
  }
 },
 "nbformat": 4,
 "nbformat_minor": 2
}
