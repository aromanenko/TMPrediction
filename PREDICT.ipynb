{
 "cells": [
  {
   "cell_type": "code",
   "execution_count": 1,
   "metadata": {},
   "outputs": [],
   "source": [
    "import Parser\n",
    "import Process_Data\n",
    "import Feature_Engineering as fe\n",
    "\n",
    "import datetime\n",
    "import pandas as pd\n",
    "import os"
   ]
  },
  {
   "cell_type": "markdown",
   "metadata": {},
   "source": [
    "## DOWNLOAD DATA"
   ]
  },
  {
   "cell_type": "code",
   "execution_count": null,
   "metadata": {},
   "outputs": [],
   "source": [
    "## FOR MAC \n",
    "## Chrome version 90.0.4430.212\n",
    "script_dir = os.path.dirname(os.path.realpath('chromedriver_mac'))\n",
    "webdriver_path = os.path.join(script_dir, 'chromedriver_mac')"
   ]
  },
  {
   "cell_type": "code",
   "execution_count": null,
   "metadata": {},
   "outputs": [],
   "source": [
    "## FOR WINDOWS\n",
    "## Chrome version 91.0.4472.77\n",
    "# script_dir = os.path.dirname(os.path.realpath('chromedriver.exe'))\n",
    "# webdriver_path = os.path.join(script_dir, 'chromedriver.exe')\n",
    "##"
   ]
  },
  {
   "cell_type": "code",
   "execution_count": 20,
   "metadata": {},
   "outputs": [],
   "source": [
    "## TEST EGOR\n",
    "## 2021-05-25 - 2021-05-27"
   ]
  },
  {
   "cell_type": "code",
   "execution_count": 3,
   "metadata": {},
   "outputs": [
    {
     "name": "stderr",
     "output_type": "stream",
     "text": [
      "/Users/yasha_ten/anaconda3/lib/python3.7/site-packages/IPython/core/interactiveshell.py:3057: DtypeWarning: Columns (10,11) have mixed types.Specify dtype option on import or set low_memory=False.\n",
      "  interactivity=interactivity, compiler=compiler, result=result)\n"
     ]
    }
   ],
   "source": [
    "## PARSE\n",
    "matches = []\n",
    "hrefs = set()\n",
    "\n",
    "startdate = datetime.date(2021, 5, 24)\n",
    "enddate = datetime.date(2021, 5, 25)\n",
    "Parser.parse(startdate, enddate, matches, hrefs, webdriver_path)\n",
    "\n",
    "\n",
    "## UPDATE OLD MATCHES\n",
    "filename = 'Data/old_matches.csv'\n",
    "old_matches = Process_Data.csv_to_list(filename)\n",
    "\n",
    "matches = Process_Data.unpack_and_change(matches)\n",
    "Process_Data.make_csv(matches, 'Data/new_matches.csv')\n",
    "matches_after_parse = Process_Data.csv_to_list('Data/new_matches.csv')\n",
    "Process_Data.make_csv(old_matches + matches_after_parse, 'Data/old_matches.csv')\n",
    "\n",
    "\n",
    "## PROCESS OLD MATCHES\n",
    "Process_Data.delete_trash(old_matches)\n",
    "Process_Data.split_sets_and_dur(old_matches)\n",
    "Process_Data.fix_set_score(old_matches)\n",
    "Process_Data.split_stats(old_matches)\n",
    "Process_Data.create_srv_games(old_matches)\n",
    "Process_Data.create_bp_stat(old_matches)\n",
    "\n",
    "\n",
    "## PROCESS NEW MATCHES\n",
    "filename = 'Data/new_matches.csv'\n",
    "new_matches = Process_Data.csv_to_list(filename)\n",
    "Process_Data.delete_trash(new_matches)\n",
    "Process_Data.split_sets_and_dur(new_matches)\n",
    "Process_Data.fix_set_score(new_matches)\n",
    "Process_Data.split_stats(new_matches)\n",
    "Process_Data.create_srv_games(new_matches)\n",
    "Process_Data.create_bp_stat(new_matches)\n",
    "\n",
    "## UNION MATCHES --> CSV\n",
    "matches = old_matches + new_matches\n",
    "filename = 'Data/matches_final.csv'\n",
    "Process_Data.to_csv(matches, filename)\n",
    "\n",
    "## CSV --> PICKLE\n",
    "data = pd.read_csv(filename)\n",
    "filename = 'Data/matches_final.pkl'\n",
    "data.to_pickle(filename)\n"
   ]
  },
  {
   "cell_type": "code",
   "execution_count": 11,
   "metadata": {},
   "outputs": [],
   "source": [
    "## THINK OVER\n",
    "import zipfile\n",
    "with zipfile.ZipFile(\"Data/data.zip\", \"r\") as z:\n",
    "    z.extractall(\"\")"
   ]
  },
  {
   "cell_type": "markdown",
   "metadata": {},
   "source": [
    "## FEATURE ENGINEERING"
   ]
  },
  {
   "cell_type": "code",
   "execution_count": 10,
   "metadata": {},
   "outputs": [
    {
     "name": "stdout",
     "output_type": "stream",
     "text": [
      "FIXING PLAYERS' NAMES...\n"
     ]
    },
    {
     "data": {
      "application/vnd.jupyter.widget-view+json": {
       "model_id": "97b9143b22b748c987059030af13587b",
       "version_major": 2,
       "version_minor": 0
      },
      "text/plain": [
       "IntProgress(value=0, max=1357)"
      ]
     },
     "metadata": {},
     "output_type": "display_data"
    },
    {
     "data": {
      "application/vnd.jupyter.widget-view+json": {
       "model_id": "fd3612febbe145158c94796a9b1e21ff",
       "version_major": 2,
       "version_minor": 0
      },
      "text/plain": [
       "IntProgress(value=0, max=1357)"
      ]
     },
     "metadata": {},
     "output_type": "display_data"
    },
    {
     "name": "stdout",
     "output_type": "stream",
     "text": [
      "PLAYERS' NAMES FIXED\n",
      "\n",
      "IMPORTING STATIC STATS...\n"
     ]
    },
    {
     "data": {
      "application/vnd.jupyter.widget-view+json": {
       "model_id": "bc300fb0003344c3bf308058cb71023e",
       "version_major": 2,
       "version_minor": 0
      },
      "text/plain": [
       "IntProgress(value=0, max=200)"
      ]
     },
     "metadata": {},
     "output_type": "display_data"
    },
    {
     "data": {
      "application/vnd.jupyter.widget-view+json": {
       "model_id": "9060b997b49048c493a1f63157e89cd7",
       "version_major": 2,
       "version_minor": 0
      },
      "text/plain": [
       "IntProgress(value=0, max=200)"
      ]
     },
     "metadata": {},
     "output_type": "display_data"
    },
    {
     "name": "stdout",
     "output_type": "stream",
     "text": [
      "STATIC STATS IMPORTED\n",
      "\n",
      "FIXING SURNAMES...\n"
     ]
    },
    {
     "data": {
      "application/vnd.jupyter.widget-view+json": {
       "model_id": "b75ceaaa88c04fc48ebdaa33f209a9df",
       "version_major": 2,
       "version_minor": 0
      },
      "text/plain": [
       "IntProgress(value=0, max=200)"
      ]
     },
     "metadata": {},
     "output_type": "display_data"
    },
    {
     "name": "stdout",
     "output_type": "stream",
     "text": [
      "SURNAMES FIXED\n",
      "\n",
      "CREATING STAT RETIREMENT...\n"
     ]
    },
    {
     "data": {
      "application/vnd.jupyter.widget-view+json": {
       "model_id": "0537f4f8ca844a379dff46c92e47b406",
       "version_major": 2,
       "version_minor": 0
      },
      "text/plain": [
       "IntProgress(value=0, max=97)"
      ]
     },
     "metadata": {},
     "output_type": "display_data"
    },
    {
     "name": "stdout",
     "output_type": "stream",
     "text": [
      "STAT RETIREMENT CREATED\n",
      "\n",
      "CREATING STAT first_serve_prc_match__common...\n"
     ]
    },
    {
     "data": {
      "application/vnd.jupyter.widget-view+json": {
       "model_id": "5f8127219e094c8288a448381260f0e6",
       "version_major": 2,
       "version_minor": 0
      },
      "text/plain": [
       "IntProgress(value=0, max=173)"
      ]
     },
     "metadata": {},
     "output_type": "display_data"
    },
    {
     "name": "stdout",
     "output_type": "stream",
     "text": [
      "STAT first_serve_prc_match_common CREATED\n",
      "CREATING STAT first_serve_points_prc_match__common...\n"
     ]
    },
    {
     "data": {
      "application/vnd.jupyter.widget-view+json": {
       "model_id": "7ea40ee3d1e347578eced26191c7b7e5",
       "version_major": 2,
       "version_minor": 0
      },
      "text/plain": [
       "IntProgress(value=0, max=173)"
      ]
     },
     "metadata": {},
     "output_type": "display_data"
    },
    {
     "name": "stdout",
     "output_type": "stream",
     "text": [
      "STAT first_serve_points_prc_match_common CREATED\n",
      "CREATING STAT second_serve_points_prc_match__common...\n"
     ]
    },
    {
     "data": {
      "application/vnd.jupyter.widget-view+json": {
       "model_id": "0043635a5d964ed09d2090b73ccad8d0",
       "version_major": 2,
       "version_minor": 0
      },
      "text/plain": [
       "IntProgress(value=0, max=173)"
      ]
     },
     "metadata": {},
     "output_type": "display_data"
    },
    {
     "name": "stdout",
     "output_type": "stream",
     "text": [
      "STAT second_serve_points_prc_match_common CREATED\n",
      "CREATING STAT winning_on_return_prc__common...\n"
     ]
    },
    {
     "data": {
      "application/vnd.jupyter.widget-view+json": {
       "model_id": "b79567d8d219408cb10a25c83d28dd38",
       "version_major": 2,
       "version_minor": 0
      },
      "text/plain": [
       "IntProgress(value=0, max=173)"
      ]
     },
     "metadata": {},
     "output_type": "display_data"
    },
    {
     "name": "stdout",
     "output_type": "stream",
     "text": [
      "STAT winning_on_return_prc_common CREATED\n",
      "CREATING STAT aces_per_game__common...\n"
     ]
    },
    {
     "data": {
      "application/vnd.jupyter.widget-view+json": {
       "model_id": "6d554e6b5f97448489100d8afb79ea19",
       "version_major": 2,
       "version_minor": 0
      },
      "text/plain": [
       "IntProgress(value=0, max=173)"
      ]
     },
     "metadata": {},
     "output_type": "display_data"
    },
    {
     "name": "stdout",
     "output_type": "stream",
     "text": [
      "STAT aces_per_game_common CREATED\n",
      "CREATING STAT df_per_game__common...\n"
     ]
    },
    {
     "data": {
      "application/vnd.jupyter.widget-view+json": {
       "model_id": "c0931d8d9acf404fb0daacb0d8b3a123",
       "version_major": 2,
       "version_minor": 0
      },
      "text/plain": [
       "IntProgress(value=0, max=167)"
      ]
     },
     "metadata": {},
     "output_type": "display_data"
    },
    {
     "name": "stdout",
     "output_type": "stream",
     "text": [
      "STAT df_per_game_common CREATED\n",
      "CREATING STAT break_points_prc_match__common...\n"
     ]
    },
    {
     "data": {
      "application/vnd.jupyter.widget-view+json": {
       "model_id": "17d41443a66b4c0781787d094e47716f",
       "version_major": 2,
       "version_minor": 0
      },
      "text/plain": [
       "IntProgress(value=0, max=173)"
      ]
     },
     "metadata": {},
     "output_type": "display_data"
    },
    {
     "name": "stdout",
     "output_type": "stream",
     "text": [
      "STAT break_points_prc_match_common CREATED\n",
      "ADDING INVERT MATCHES...\n",
      "INVERT MATCHES ADDED\n",
      "\n",
      "CREATING LAG FEATURES...\n"
     ]
    },
    {
     "name": "stderr",
     "output_type": "stream",
     "text": [
      "/Users/yasha_ten/anaconda3/lib/python3.7/site-packages/numpy/lib/function_base.py:3826: RuntimeWarning: Invalid value encountered in percentile\n",
      "  interpolation=interpolation)\n"
     ]
    },
    {
     "name": "stdout",
     "output_type": "stream",
     "text": [
      "LAG FEATURES CREATED\n",
      "\n"
     ]
    },
    {
     "data": {
      "text/html": [
       "<div>\n",
       "<style scoped>\n",
       "    .dataframe tbody tr th:only-of-type {\n",
       "        vertical-align: middle;\n",
       "    }\n",
       "\n",
       "    .dataframe tbody tr th {\n",
       "        vertical-align: top;\n",
       "    }\n",
       "\n",
       "    .dataframe thead th {\n",
       "        text-align: right;\n",
       "    }\n",
       "</style>\n",
       "<table border=\"1\" class=\"dataframe\">\n",
       "  <thead>\n",
       "    <tr style=\"text-align: right;\">\n",
       "      <th></th>\n",
       "      <th></th>\n",
       "      <th></th>\n",
       "      <th>index</th>\n",
       "      <th>match_url</th>\n",
       "      <th>status</th>\n",
       "      <th>Surface</th>\n",
       "      <th>k1</th>\n",
       "      <th>k2</th>\n",
       "      <th>p1_win</th>\n",
       "      <th>round</th>\n",
       "      <th>match_dur</th>\n",
       "      <th>Location</th>\n",
       "      <th>sets_stat</th>\n",
       "      <th>duration_set1</th>\n",
       "      <th>duration_set2</th>\n",
       "      <th>duration_set3</th>\n",
       "      <th>duration_set4</th>\n",
       "      <th>duration_set5</th>\n",
       "      <th>aces_match_player1</th>\n",
       "      <th>aces_match_player2</th>\n",
       "      <th>double_faults_match_player1</th>\n",
       "      <th>double_faults_match_player2</th>\n",
       "      <th>first_serve_prc_match_player1</th>\n",
       "      <th>first_serve_prc_match_player2</th>\n",
       "      <th>first_serve_cnt_match_player1</th>\n",
       "      <th>first_serve_cnt_match_player2</th>\n",
       "      <th>second_serve_prc_match_player1</th>\n",
       "      <th>...</th>\n",
       "      <th>p1_filter_lag_1_match_dur_pctl10_7</th>\n",
       "      <th>p2_lag_1_match_dur_mean_1</th>\n",
       "      <th>p2_lag_1_match_dur_median_1</th>\n",
       "      <th>p2_lag_1_match_dur_pctl90_1</th>\n",
       "      <th>p2_lag_1_match_dur_pctl10_1</th>\n",
       "      <th>p2_lag_1_match_dur_mean_3</th>\n",
       "      <th>p2_lag_1_match_dur_median_3</th>\n",
       "      <th>p2_lag_1_match_dur_pctl90_3</th>\n",
       "      <th>p2_lag_1_match_dur_pctl10_3</th>\n",
       "      <th>p2_lag_1_match_dur_mean_7</th>\n",
       "      <th>p2_lag_1_match_dur_median_7</th>\n",
       "      <th>p2_lag_1_match_dur_pctl90_7</th>\n",
       "      <th>p2_lag_1_match_dur_pctl10_7</th>\n",
       "      <th>p2_filter_lag_1_match_dur_mean_1</th>\n",
       "      <th>p2_filter_lag_1_match_dur_median_1</th>\n",
       "      <th>p2_filter_lag_1_match_dur_pctl90_1</th>\n",
       "      <th>p2_filter_lag_1_match_dur_pctl10_1</th>\n",
       "      <th>p2_filter_lag_1_match_dur_mean_3</th>\n",
       "      <th>p2_filter_lag_1_match_dur_median_3</th>\n",
       "      <th>p2_filter_lag_1_match_dur_pctl90_3</th>\n",
       "      <th>p2_filter_lag_1_match_dur_pctl10_3</th>\n",
       "      <th>p2_filter_lag_1_match_dur_mean_7</th>\n",
       "      <th>p2_filter_lag_1_match_dur_median_7</th>\n",
       "      <th>p2_filter_lag_1_match_dur_pctl90_7</th>\n",
       "      <th>p2_filter_lag_1_match_dur_pctl10_7</th>\n",
       "    </tr>\n",
       "    <tr>\n",
       "      <th>date</th>\n",
       "      <th>p1</th>\n",
       "      <th>p2</th>\n",
       "      <th></th>\n",
       "      <th></th>\n",
       "      <th></th>\n",
       "      <th></th>\n",
       "      <th></th>\n",
       "      <th></th>\n",
       "      <th></th>\n",
       "      <th></th>\n",
       "      <th></th>\n",
       "      <th></th>\n",
       "      <th></th>\n",
       "      <th></th>\n",
       "      <th></th>\n",
       "      <th></th>\n",
       "      <th></th>\n",
       "      <th></th>\n",
       "      <th></th>\n",
       "      <th></th>\n",
       "      <th></th>\n",
       "      <th></th>\n",
       "      <th></th>\n",
       "      <th></th>\n",
       "      <th></th>\n",
       "      <th></th>\n",
       "      <th></th>\n",
       "      <th></th>\n",
       "      <th></th>\n",
       "      <th></th>\n",
       "      <th></th>\n",
       "      <th></th>\n",
       "      <th></th>\n",
       "      <th></th>\n",
       "      <th></th>\n",
       "      <th></th>\n",
       "      <th></th>\n",
       "      <th></th>\n",
       "      <th></th>\n",
       "      <th></th>\n",
       "      <th></th>\n",
       "      <th></th>\n",
       "      <th></th>\n",
       "      <th></th>\n",
       "      <th></th>\n",
       "      <th></th>\n",
       "      <th></th>\n",
       "      <th></th>\n",
       "      <th></th>\n",
       "      <th></th>\n",
       "      <th></th>\n",
       "      <th></th>\n",
       "      <th></th>\n",
       "    </tr>\n",
       "  </thead>\n",
       "  <tbody>\n",
       "    <tr>\n",
       "      <th rowspan=\"3\" valign=\"top\">2021-05-03</th>\n",
       "      <th>Alcaraz C.</th>\n",
       "      <th>Mannarino A.</th>\n",
       "      <td>0</td>\n",
       "      <td>https://www.sofascore.com/alcaraz-mannarino/Ur...</td>\n",
       "      <td>Ended</td>\n",
       "      <td>0.0</td>\n",
       "      <td>1.20</td>\n",
       "      <td>4.50</td>\n",
       "      <td>1</td>\n",
       "      <td>1.0</td>\n",
       "      <td>71.0</td>\n",
       "      <td>Madrid</td>\n",
       "      <td>NaN</td>\n",
       "      <td>43.0</td>\n",
       "      <td>28.0</td>\n",
       "      <td>NaN</td>\n",
       "      <td>NaN</td>\n",
       "      <td>NaN</td>\n",
       "      <td>1.0</td>\n",
       "      <td>1.0</td>\n",
       "      <td>1.0</td>\n",
       "      <td>1.0</td>\n",
       "      <td>0.642857</td>\n",
       "      <td>0.568966</td>\n",
       "      <td>27.0</td>\n",
       "      <td>33.0</td>\n",
       "      <td>0.933333</td>\n",
       "      <td>...</td>\n",
       "      <td>NaN</td>\n",
       "      <td>NaN</td>\n",
       "      <td>NaN</td>\n",
       "      <td>NaN</td>\n",
       "      <td>NaN</td>\n",
       "      <td>NaN</td>\n",
       "      <td>NaN</td>\n",
       "      <td>NaN</td>\n",
       "      <td>NaN</td>\n",
       "      <td>NaN</td>\n",
       "      <td>NaN</td>\n",
       "      <td>NaN</td>\n",
       "      <td>NaN</td>\n",
       "      <td>NaN</td>\n",
       "      <td>NaN</td>\n",
       "      <td>NaN</td>\n",
       "      <td>NaN</td>\n",
       "      <td>NaN</td>\n",
       "      <td>NaN</td>\n",
       "      <td>NaN</td>\n",
       "      <td>NaN</td>\n",
       "      <td>NaN</td>\n",
       "      <td>NaN</td>\n",
       "      <td>NaN</td>\n",
       "      <td>NaN</td>\n",
       "    </tr>\n",
       "    <tr>\n",
       "      <th>Chardy J.</th>\n",
       "      <th>Evans D.</th>\n",
       "      <td>1</td>\n",
       "      <td>https://www.sofascore.com/evans-chardy/EqgsACg</td>\n",
       "      <td>Ended</td>\n",
       "      <td>0.0</td>\n",
       "      <td>2.20</td>\n",
       "      <td>1.67</td>\n",
       "      <td>0</td>\n",
       "      <td>1.0</td>\n",
       "      <td>165.0</td>\n",
       "      <td>Madrid</td>\n",
       "      <td>NaN</td>\n",
       "      <td>63.0</td>\n",
       "      <td>67.0</td>\n",
       "      <td>35.0</td>\n",
       "      <td>NaN</td>\n",
       "      <td>NaN</td>\n",
       "      <td>4.0</td>\n",
       "      <td>12.0</td>\n",
       "      <td>6.0</td>\n",
       "      <td>1.0</td>\n",
       "      <td>0.677419</td>\n",
       "      <td>0.754545</td>\n",
       "      <td>84.0</td>\n",
       "      <td>83.0</td>\n",
       "      <td>0.850000</td>\n",
       "      <td>...</td>\n",
       "      <td>NaN</td>\n",
       "      <td>NaN</td>\n",
       "      <td>NaN</td>\n",
       "      <td>NaN</td>\n",
       "      <td>NaN</td>\n",
       "      <td>NaN</td>\n",
       "      <td>NaN</td>\n",
       "      <td>NaN</td>\n",
       "      <td>NaN</td>\n",
       "      <td>NaN</td>\n",
       "      <td>NaN</td>\n",
       "      <td>NaN</td>\n",
       "      <td>NaN</td>\n",
       "      <td>NaN</td>\n",
       "      <td>NaN</td>\n",
       "      <td>NaN</td>\n",
       "      <td>NaN</td>\n",
       "      <td>NaN</td>\n",
       "      <td>NaN</td>\n",
       "      <td>NaN</td>\n",
       "      <td>NaN</td>\n",
       "      <td>NaN</td>\n",
       "      <td>NaN</td>\n",
       "      <td>NaN</td>\n",
       "      <td>NaN</td>\n",
       "    </tr>\n",
       "    <tr>\n",
       "      <th>Evans D.</th>\n",
       "      <th>Chardy J.</th>\n",
       "      <td>2</td>\n",
       "      <td>https://www.sofascore.com/evans-chardy/EqgsACg</td>\n",
       "      <td>Ended</td>\n",
       "      <td>0.0</td>\n",
       "      <td>1.67</td>\n",
       "      <td>2.20</td>\n",
       "      <td>1</td>\n",
       "      <td>1.0</td>\n",
       "      <td>165.0</td>\n",
       "      <td>Madrid</td>\n",
       "      <td>NaN</td>\n",
       "      <td>63.0</td>\n",
       "      <td>67.0</td>\n",
       "      <td>35.0</td>\n",
       "      <td>NaN</td>\n",
       "      <td>NaN</td>\n",
       "      <td>12.0</td>\n",
       "      <td>4.0</td>\n",
       "      <td>1.0</td>\n",
       "      <td>6.0</td>\n",
       "      <td>0.754545</td>\n",
       "      <td>0.677419</td>\n",
       "      <td>83.0</td>\n",
       "      <td>84.0</td>\n",
       "      <td>0.962963</td>\n",
       "      <td>...</td>\n",
       "      <td>NaN</td>\n",
       "      <td>NaN</td>\n",
       "      <td>NaN</td>\n",
       "      <td>NaN</td>\n",
       "      <td>NaN</td>\n",
       "      <td>NaN</td>\n",
       "      <td>NaN</td>\n",
       "      <td>NaN</td>\n",
       "      <td>NaN</td>\n",
       "      <td>NaN</td>\n",
       "      <td>NaN</td>\n",
       "      <td>NaN</td>\n",
       "      <td>NaN</td>\n",
       "      <td>NaN</td>\n",
       "      <td>NaN</td>\n",
       "      <td>NaN</td>\n",
       "      <td>NaN</td>\n",
       "      <td>NaN</td>\n",
       "      <td>NaN</td>\n",
       "      <td>NaN</td>\n",
       "      <td>NaN</td>\n",
       "      <td>NaN</td>\n",
       "      <td>NaN</td>\n",
       "      <td>NaN</td>\n",
       "      <td>NaN</td>\n",
       "    </tr>\n",
       "  </tbody>\n",
       "</table>\n",
       "<p>3 rows × 856 columns</p>\n",
       "</div>"
      ],
      "text/plain": [
       "                                    index  \\\n",
       "date       p1         p2                    \n",
       "2021-05-03 Alcaraz C. Mannarino A.      0   \n",
       "           Chardy J.  Evans D.          1   \n",
       "           Evans D.   Chardy J.         2   \n",
       "\n",
       "                                                                            match_url  \\\n",
       "date       p1         p2                                                                \n",
       "2021-05-03 Alcaraz C. Mannarino A.  https://www.sofascore.com/alcaraz-mannarino/Ur...   \n",
       "           Chardy J.  Evans D.         https://www.sofascore.com/evans-chardy/EqgsACg   \n",
       "           Evans D.   Chardy J.        https://www.sofascore.com/evans-chardy/EqgsACg   \n",
       "\n",
       "                                   status  Surface    k1    k2  p1_win  round  \\\n",
       "date       p1         p2                                                        \n",
       "2021-05-03 Alcaraz C. Mannarino A.  Ended      0.0  1.20  4.50       1    1.0   \n",
       "           Chardy J.  Evans D.      Ended      0.0  2.20  1.67       0    1.0   \n",
       "           Evans D.   Chardy J.     Ended      0.0  1.67  2.20       1    1.0   \n",
       "\n",
       "                                    match_dur Location  sets_stat  \\\n",
       "date       p1         p2                                            \n",
       "2021-05-03 Alcaraz C. Mannarino A.       71.0  Madrid         NaN   \n",
       "           Chardy J.  Evans D.          165.0  Madrid         NaN   \n",
       "           Evans D.   Chardy J.         165.0  Madrid         NaN   \n",
       "\n",
       "                                    duration_set1  duration_set2  \\\n",
       "date       p1         p2                                           \n",
       "2021-05-03 Alcaraz C. Mannarino A.           43.0           28.0   \n",
       "           Chardy J.  Evans D.               63.0           67.0   \n",
       "           Evans D.   Chardy J.              63.0           67.0   \n",
       "\n",
       "                                    duration_set3  duration_set4  \\\n",
       "date       p1         p2                                           \n",
       "2021-05-03 Alcaraz C. Mannarino A.            NaN            NaN   \n",
       "           Chardy J.  Evans D.               35.0            NaN   \n",
       "           Evans D.   Chardy J.              35.0            NaN   \n",
       "\n",
       "                                    duration_set5  aces_match_player1  \\\n",
       "date       p1         p2                                                \n",
       "2021-05-03 Alcaraz C. Mannarino A.            NaN                 1.0   \n",
       "           Chardy J.  Evans D.                NaN                 4.0   \n",
       "           Evans D.   Chardy J.               NaN                12.0   \n",
       "\n",
       "                                    aces_match_player2  \\\n",
       "date       p1         p2                                 \n",
       "2021-05-03 Alcaraz C. Mannarino A.                 1.0   \n",
       "           Chardy J.  Evans D.                    12.0   \n",
       "           Evans D.   Chardy J.                    4.0   \n",
       "\n",
       "                                    double_faults_match_player1  \\\n",
       "date       p1         p2                                          \n",
       "2021-05-03 Alcaraz C. Mannarino A.                          1.0   \n",
       "           Chardy J.  Evans D.                              6.0   \n",
       "           Evans D.   Chardy J.                             1.0   \n",
       "\n",
       "                                    double_faults_match_player2  \\\n",
       "date       p1         p2                                          \n",
       "2021-05-03 Alcaraz C. Mannarino A.                          1.0   \n",
       "           Chardy J.  Evans D.                              1.0   \n",
       "           Evans D.   Chardy J.                             6.0   \n",
       "\n",
       "                                    first_serve_prc_match_player1  \\\n",
       "date       p1         p2                                            \n",
       "2021-05-03 Alcaraz C. Mannarino A.                       0.642857   \n",
       "           Chardy J.  Evans D.                           0.677419   \n",
       "           Evans D.   Chardy J.                          0.754545   \n",
       "\n",
       "                                    first_serve_prc_match_player2  \\\n",
       "date       p1         p2                                            \n",
       "2021-05-03 Alcaraz C. Mannarino A.                       0.568966   \n",
       "           Chardy J.  Evans D.                           0.754545   \n",
       "           Evans D.   Chardy J.                          0.677419   \n",
       "\n",
       "                                    first_serve_cnt_match_player1  \\\n",
       "date       p1         p2                                            \n",
       "2021-05-03 Alcaraz C. Mannarino A.                           27.0   \n",
       "           Chardy J.  Evans D.                               84.0   \n",
       "           Evans D.   Chardy J.                              83.0   \n",
       "\n",
       "                                    first_serve_cnt_match_player2  \\\n",
       "date       p1         p2                                            \n",
       "2021-05-03 Alcaraz C. Mannarino A.                           33.0   \n",
       "           Chardy J.  Evans D.                               83.0   \n",
       "           Evans D.   Chardy J.                              84.0   \n",
       "\n",
       "                                    second_serve_prc_match_player1  ...  \\\n",
       "date       p1         p2                                            ...   \n",
       "2021-05-03 Alcaraz C. Mannarino A.                        0.933333  ...   \n",
       "           Chardy J.  Evans D.                            0.850000  ...   \n",
       "           Evans D.   Chardy J.                           0.962963  ...   \n",
       "\n",
       "                                    p1_filter_lag_1_match_dur_pctl10_7  \\\n",
       "date       p1         p2                                                 \n",
       "2021-05-03 Alcaraz C. Mannarino A.                                 NaN   \n",
       "           Chardy J.  Evans D.                                     NaN   \n",
       "           Evans D.   Chardy J.                                    NaN   \n",
       "\n",
       "                                    p2_lag_1_match_dur_mean_1  \\\n",
       "date       p1         p2                                        \n",
       "2021-05-03 Alcaraz C. Mannarino A.                        NaN   \n",
       "           Chardy J.  Evans D.                            NaN   \n",
       "           Evans D.   Chardy J.                           NaN   \n",
       "\n",
       "                                    p2_lag_1_match_dur_median_1  \\\n",
       "date       p1         p2                                          \n",
       "2021-05-03 Alcaraz C. Mannarino A.                          NaN   \n",
       "           Chardy J.  Evans D.                              NaN   \n",
       "           Evans D.   Chardy J.                             NaN   \n",
       "\n",
       "                                    p2_lag_1_match_dur_pctl90_1  \\\n",
       "date       p1         p2                                          \n",
       "2021-05-03 Alcaraz C. Mannarino A.                          NaN   \n",
       "           Chardy J.  Evans D.                              NaN   \n",
       "           Evans D.   Chardy J.                             NaN   \n",
       "\n",
       "                                    p2_lag_1_match_dur_pctl10_1  \\\n",
       "date       p1         p2                                          \n",
       "2021-05-03 Alcaraz C. Mannarino A.                          NaN   \n",
       "           Chardy J.  Evans D.                              NaN   \n",
       "           Evans D.   Chardy J.                             NaN   \n",
       "\n",
       "                                    p2_lag_1_match_dur_mean_3  \\\n",
       "date       p1         p2                                        \n",
       "2021-05-03 Alcaraz C. Mannarino A.                        NaN   \n",
       "           Chardy J.  Evans D.                            NaN   \n",
       "           Evans D.   Chardy J.                           NaN   \n",
       "\n",
       "                                    p2_lag_1_match_dur_median_3  \\\n",
       "date       p1         p2                                          \n",
       "2021-05-03 Alcaraz C. Mannarino A.                          NaN   \n",
       "           Chardy J.  Evans D.                              NaN   \n",
       "           Evans D.   Chardy J.                             NaN   \n",
       "\n",
       "                                    p2_lag_1_match_dur_pctl90_3  \\\n",
       "date       p1         p2                                          \n",
       "2021-05-03 Alcaraz C. Mannarino A.                          NaN   \n",
       "           Chardy J.  Evans D.                              NaN   \n",
       "           Evans D.   Chardy J.                             NaN   \n",
       "\n",
       "                                    p2_lag_1_match_dur_pctl10_3  \\\n",
       "date       p1         p2                                          \n",
       "2021-05-03 Alcaraz C. Mannarino A.                          NaN   \n",
       "           Chardy J.  Evans D.                              NaN   \n",
       "           Evans D.   Chardy J.                             NaN   \n",
       "\n",
       "                                    p2_lag_1_match_dur_mean_7  \\\n",
       "date       p1         p2                                        \n",
       "2021-05-03 Alcaraz C. Mannarino A.                        NaN   \n",
       "           Chardy J.  Evans D.                            NaN   \n",
       "           Evans D.   Chardy J.                           NaN   \n",
       "\n",
       "                                    p2_lag_1_match_dur_median_7  \\\n",
       "date       p1         p2                                          \n",
       "2021-05-03 Alcaraz C. Mannarino A.                          NaN   \n",
       "           Chardy J.  Evans D.                              NaN   \n",
       "           Evans D.   Chardy J.                             NaN   \n",
       "\n",
       "                                    p2_lag_1_match_dur_pctl90_7  \\\n",
       "date       p1         p2                                          \n",
       "2021-05-03 Alcaraz C. Mannarino A.                          NaN   \n",
       "           Chardy J.  Evans D.                              NaN   \n",
       "           Evans D.   Chardy J.                             NaN   \n",
       "\n",
       "                                    p2_lag_1_match_dur_pctl10_7  \\\n",
       "date       p1         p2                                          \n",
       "2021-05-03 Alcaraz C. Mannarino A.                          NaN   \n",
       "           Chardy J.  Evans D.                              NaN   \n",
       "           Evans D.   Chardy J.                             NaN   \n",
       "\n",
       "                                    p2_filter_lag_1_match_dur_mean_1  \\\n",
       "date       p1         p2                                               \n",
       "2021-05-03 Alcaraz C. Mannarino A.                               NaN   \n",
       "           Chardy J.  Evans D.                                   NaN   \n",
       "           Evans D.   Chardy J.                                  NaN   \n",
       "\n",
       "                                    p2_filter_lag_1_match_dur_median_1  \\\n",
       "date       p1         p2                                                 \n",
       "2021-05-03 Alcaraz C. Mannarino A.                                 NaN   \n",
       "           Chardy J.  Evans D.                                     NaN   \n",
       "           Evans D.   Chardy J.                                    NaN   \n",
       "\n",
       "                                    p2_filter_lag_1_match_dur_pctl90_1  \\\n",
       "date       p1         p2                                                 \n",
       "2021-05-03 Alcaraz C. Mannarino A.                                 NaN   \n",
       "           Chardy J.  Evans D.                                     NaN   \n",
       "           Evans D.   Chardy J.                                    NaN   \n",
       "\n",
       "                                    p2_filter_lag_1_match_dur_pctl10_1  \\\n",
       "date       p1         p2                                                 \n",
       "2021-05-03 Alcaraz C. Mannarino A.                                 NaN   \n",
       "           Chardy J.  Evans D.                                     NaN   \n",
       "           Evans D.   Chardy J.                                    NaN   \n",
       "\n",
       "                                    p2_filter_lag_1_match_dur_mean_3  \\\n",
       "date       p1         p2                                               \n",
       "2021-05-03 Alcaraz C. Mannarino A.                               NaN   \n",
       "           Chardy J.  Evans D.                                   NaN   \n",
       "           Evans D.   Chardy J.                                  NaN   \n",
       "\n",
       "                                    p2_filter_lag_1_match_dur_median_3  \\\n",
       "date       p1         p2                                                 \n",
       "2021-05-03 Alcaraz C. Mannarino A.                                 NaN   \n",
       "           Chardy J.  Evans D.                                     NaN   \n",
       "           Evans D.   Chardy J.                                    NaN   \n",
       "\n",
       "                                    p2_filter_lag_1_match_dur_pctl90_3  \\\n",
       "date       p1         p2                                                 \n",
       "2021-05-03 Alcaraz C. Mannarino A.                                 NaN   \n",
       "           Chardy J.  Evans D.                                     NaN   \n",
       "           Evans D.   Chardy J.                                    NaN   \n",
       "\n",
       "                                    p2_filter_lag_1_match_dur_pctl10_3  \\\n",
       "date       p1         p2                                                 \n",
       "2021-05-03 Alcaraz C. Mannarino A.                                 NaN   \n",
       "           Chardy J.  Evans D.                                     NaN   \n",
       "           Evans D.   Chardy J.                                    NaN   \n",
       "\n",
       "                                    p2_filter_lag_1_match_dur_mean_7  \\\n",
       "date       p1         p2                                               \n",
       "2021-05-03 Alcaraz C. Mannarino A.                               NaN   \n",
       "           Chardy J.  Evans D.                                   NaN   \n",
       "           Evans D.   Chardy J.                                  NaN   \n",
       "\n",
       "                                    p2_filter_lag_1_match_dur_median_7  \\\n",
       "date       p1         p2                                                 \n",
       "2021-05-03 Alcaraz C. Mannarino A.                                 NaN   \n",
       "           Chardy J.  Evans D.                                     NaN   \n",
       "           Evans D.   Chardy J.                                    NaN   \n",
       "\n",
       "                                    p2_filter_lag_1_match_dur_pctl90_7  \\\n",
       "date       p1         p2                                                 \n",
       "2021-05-03 Alcaraz C. Mannarino A.                                 NaN   \n",
       "           Chardy J.  Evans D.                                     NaN   \n",
       "           Evans D.   Chardy J.                                    NaN   \n",
       "\n",
       "                                    p2_filter_lag_1_match_dur_pctl10_7  \n",
       "date       p1         p2                                                \n",
       "2021-05-03 Alcaraz C. Mannarino A.                                 NaN  \n",
       "           Chardy J.  Evans D.                                     NaN  \n",
       "           Evans D.   Chardy J.                                    NaN  \n",
       "\n",
       "[3 rows x 856 columns]"
      ]
     },
     "execution_count": 10,
     "metadata": {},
     "output_type": "execute_result"
    }
   ],
   "source": [
    "## READ DATA\n",
    "df = pd.read_pickle('Data/matches_final.pkl') \n",
    "players1 = pd.read_pickle('Data/players.pkl')\n",
    "players2 = pd.read_pickle('Data/players.pkl')\n",
    "\n",
    "## CHANGE TIME TYPE\n",
    "fe.fix_time(df)\n",
    "\n",
    "## fix players' names for transporting stats\n",
    "fe.fix_names1(players1)\n",
    "fe.fix_names2(players2)\n",
    "players1 = players1.set_index(['name'])\n",
    "players2 = players2.set_index(['name'])\n",
    "\n",
    "## transporting stats players --> dataframe\n",
    "fe.add_stats(df, players1)\n",
    "fe.add_stats(df, players2, 0)\n",
    "\n",
    "\n",
    "## fix letters in data\n",
    "fe.fix_letters(df)\n",
    "\n",
    "## create retirement stat\n",
    "fe.create_retirement_stat(df)\n",
    "\n",
    "\n",
    "## converting age to datetime\n",
    "fe.fix_age(df, 1)\n",
    "fe.fix_age(df, 2)\n",
    "\n",
    "\n",
    "## converting some stats to datetime in df for the next steps\n",
    "df['date'] = pd.to_datetime(df['date'])\n",
    "df['p1_birth'] = pd.to_datetime(df['p1_birth'])\n",
    "df['p2_birth'] = pd.to_datetime(df['p2_birth'])\n",
    "\n",
    "# count prc of winning points on return\n",
    "fe.create_feature_WRP(df)\n",
    "\n",
    "## normalize to per_game stats\n",
    "fe.create_aces_per_game(df)\n",
    "fe.create_double_faults_per_game(df)\n",
    "\n",
    "\n",
    "## create stats based on common opponents\n",
    "stats = ['first_serve_prc_match_player1', 'first_serve_points_prc_match_player1',\n",
    "         'second_serve_points_prc_match_player1', 'winning_on_return_prc_player1',\n",
    "        'aces_per_game_player1', 'df_per_game_player1', 'break_points_prc_match_player1']\n",
    "fe.create_common_stats(df, stats)\n",
    "\n",
    "\n",
    "## create new features\n",
    "fe.create_feature_WSP(df)\n",
    "fe.create_feature_COMPLETE(df)\n",
    "fe.create_feature_SERVEADV(df)\n",
    "\n",
    "# add invert matches\n",
    "startdate = '2021-01-01'\n",
    "df = fe.invert(df, startdate)\n",
    "\n",
    "## drop Nan stats\n",
    "df.dropna(subset=['p1_height'], inplace=True)\n",
    "df.dropna(subset=['p2_height'], inplace=True)\n",
    "df.dropna(subset=['p1_birth'], inplace=True)\n",
    "df.dropna(subset=['p2_birth'], inplace=True)\n",
    "df.dropna(subset=['k1'], inplace=True)\n",
    "df.dropna(subset=['k2'], inplace=True)\n",
    "\n",
    "# FIX SOME STATS' FORMAT\n",
    "df = fe.fix_format(df)\n",
    "\n",
    "# CREATE LAG FEATURES USING MAIN STATS\n",
    "df = fe.build_lag_features(df)\n",
    "\n",
    "\n",
    "df.rename(columns={\"player1\": \"p1\", \"player2\": \"p2\", \"player1_win\": \"p1_win\"}, inplace=True)\n",
    "df = df.set_index([\"date\", \"p1\", \"p2\"])\n",
    "\n",
    "df.head(3)"
   ]
  },
  {
   "cell_type": "markdown",
   "metadata": {},
   "source": [
    "## CREATE MODELS"
   ]
  },
  {
   "cell_type": "code",
   "execution_count": 11,
   "metadata": {},
   "outputs": [],
   "source": [
    "import Create_Models as cm"
   ]
  },
  {
   "cell_type": "code",
   "execution_count": 12,
   "metadata": {},
   "outputs": [],
   "source": [
    "# df = pd.read_pickle('test.pkl') ## для теста\n",
    "predictions = []\n",
    "# startdate = '2021-05-20'\n",
    "\n",
    "data = cm.create_data1(df)\n",
    "y_pred1 = cm.build_model_classifier(data, startdate=startdate)\n",
    "predictions.append(y_pred1)\n",
    "data = cm.create_data2(df)\n",
    "y_pred2 = cm.build_model_classifier(data, startdate=startdate)\n",
    "predictions.append(y_pred2)\n",
    "data = cm.create_data3(df)\n",
    "y_pred3 = cm.build_model_classifier(data, startdate=startdate)\n",
    "predictions.append(y_pred3)\n"
   ]
  },
  {
   "cell_type": "markdown",
   "metadata": {},
   "source": [
    "## BUILD COMPOSITION"
   ]
  },
  {
   "cell_type": "code",
   "execution_count": 13,
   "metadata": {},
   "outputs": [],
   "source": [
    "import Composition\n",
    "agg = Composition.aggregate(Composition.get_res(df, startdate), Composition.make_df(predictions))"
   ]
  },
  {
   "cell_type": "code",
   "execution_count": 16,
   "metadata": {},
   "outputs": [],
   "source": [
    "import zipfile\n",
    "newzip = zipfile.ZipFile('Data/data.zip','w', zipfile.ZIP_DEFLATED)\n",
    "newzip.write('Data/all_features.pkl')\n",
    "newzip.write('Data/old_matches.csv')\n",
    "newzip.write('Data/players.pkl')\n",
    "newzip.close() #закрываем архив"
   ]
  },
  {
   "cell_type": "code",
   "execution_count": 15,
   "metadata": {},
   "outputs": [],
   "source": [
    "with zipfile.ZipFile(\"Data/data.zip\", \"r\") as z:\n",
    "    z.extractall(\"Data/\")"
   ]
  },
  {
   "cell_type": "code",
   "execution_count": 11,
   "metadata": {},
   "outputs": [],
   "source": [
    "## IAN: 2021-01-01 - 2021-03-01 // EGOR: 2021-03-01 - 2021-05-21"
   ]
  },
  {
   "cell_type": "code",
   "execution_count": null,
   "metadata": {},
   "outputs": [],
   "source": []
  },
  {
   "cell_type": "code",
   "execution_count": null,
   "metadata": {},
   "outputs": [],
   "source": []
  }
 ],
 "metadata": {
  "kernelspec": {
   "display_name": "Python 3",
   "language": "python",
   "name": "python3"
  },
  "language_info": {
   "codemirror_mode": {
    "name": "ipython",
    "version": 3
   },
   "file_extension": ".py",
   "mimetype": "text/x-python",
   "name": "python",
   "nbconvert_exporter": "python",
   "pygments_lexer": "ipython3",
   "version": "3.7.3"
  }
 },
 "nbformat": 4,
 "nbformat_minor": 2
}
