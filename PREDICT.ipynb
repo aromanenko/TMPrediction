{
 "cells": [
  {
   "cell_type": "code",
   "execution_count": 1,
   "metadata": {},
   "outputs": [],
   "source": [
    "import Parser\n",
    "import Process_Data\n",
    "import Feature_Engineering as fe\n",
    "\n",
    "import datetime\n",
    "import pandas as pd\n",
    "import os"
   ]
  },
  {
   "cell_type": "markdown",
   "metadata": {},
   "source": [
    "## DOWNLOAD DATA"
   ]
  },
  {
   "cell_type": "code",
   "execution_count": 35,
   "metadata": {},
   "outputs": [
    {
     "name": "stderr",
     "output_type": "stream",
     "text": [
      "/Users/yasha_ten/anaconda3/lib/python3.7/site-packages/IPython/core/interactiveshell.py:3057: DtypeWarning: Columns (10,11) have mixed types.Specify dtype option on import or set low_memory=False.\n",
      "  interactivity=interactivity, compiler=compiler, result=result)\n"
     ]
    }
   ],
   "source": [
    "# ## PARSE\n",
    "# matches = []\n",
    "# hrefs = set()\n",
    "\n",
    "# script_dir = os.path.dirname(os.path.realpath('chromedriver'))\n",
    "# webdriver_path = os.path.join(script_dir, \"chromedriver\")\n",
    "\n",
    "# startdate = datetime.date(2021, 5, 22)\n",
    "# endtime = datetime.date(2021, 5, 23)\n",
    "# Parser.parse(startdate, enddate, matches, hrefs, webdriver_path)\n",
    "\n",
    "\n",
    "## UPDATE OLD MATCHES\n",
    "filename = 'Data/old_matches.csv'\n",
    "old_matches = Process_Data.csv_to_list(filename)\n",
    "\n",
    "# matches = Process_Data.unpack_and_change(matches)\n",
    "Process_Data.make_csv(matches, 'Data/new_matches.csv')\n",
    "matches_after_parse = Process_Data.csv_to_list('Data/new_matches.csv')\n",
    "Process_Data.make_csv(old_matches + matches_after_parse, 'Data/old_matches.csv')\n",
    "\n",
    "\n",
    "## PROCESS OLD MATCHES\n",
    "Process_Data.delete_trash(old_matches)\n",
    "Process_Data.split_sets_and_dur(old_matches)\n",
    "Process_Data.fix_set_score(old_matches)\n",
    "Process_Data.split_stats(old_matches)\n",
    "Process_Data.create_srv_games(old_matches)\n",
    "Process_Data.create_bp_stat(old_matches)\n",
    "\n",
    "\n",
    "## PROCESS NEW MATCHES\n",
    "filename = 'Data/new_matches.csv'\n",
    "new_matches = Process_Data.csv_to_list(filename)\n",
    "Process_Data.delete_trash(new_matches)\n",
    "Process_Data.split_sets_and_dur(new_matches)\n",
    "Process_Data.fix_set_score(new_matches)\n",
    "Process_Data.split_stats(new_matches)\n",
    "Process_Data.create_srv_games(new_matches)\n",
    "Process_Data.create_bp_stat(new_matches)\n",
    "\n",
    "## UNION MATCHES --> CSV\n",
    "matches = old_matches + new_matches\n",
    "filename = 'Data/matches_final.csv'\n",
    "Process_Data.to_csv(matches, filename)\n",
    "\n",
    "## CSV --> PICKLE\n",
    "data = pd.read_csv(filename)\n",
    "filename = 'Data/matches_final.pkl'\n",
    "data.to_pickle(filename)\n"
   ]
  },
  {
   "cell_type": "markdown",
   "metadata": {},
   "source": [
    "## FEATURE ENGINEERING"
   ]
  },
  {
   "cell_type": "code",
   "execution_count": 37,
   "metadata": {},
   "outputs": [
    {
     "name": "stdout",
     "output_type": "stream",
     "text": [
      "FIXING PLAYERS' NAMES...\n"
     ]
    },
    {
     "data": {
      "application/vnd.jupyter.widget-view+json": {
       "model_id": "811a187432964726bb1376b53c14d30b",
       "version_major": 2,
       "version_minor": 0
      },
      "text/plain": [
       "IntProgress(value=0, max=1357)"
      ]
     },
     "metadata": {},
     "output_type": "display_data"
    },
    {
     "data": {
      "application/vnd.jupyter.widget-view+json": {
       "model_id": "2b7abb555c18481ab0a15b91daee6c44",
       "version_major": 2,
       "version_minor": 0
      },
      "text/plain": [
       "IntProgress(value=0, max=1357)"
      ]
     },
     "metadata": {},
     "output_type": "display_data"
    },
    {
     "name": "stdout",
     "output_type": "stream",
     "text": [
      "PLAYERS' NAMES FIXED\n",
      "\n",
      "IMPORTING STATIC STATS...\n"
     ]
    },
    {
     "data": {
      "application/vnd.jupyter.widget-view+json": {
       "model_id": "b5edd420e40a4316a6564852171b9d9b",
       "version_major": 2,
       "version_minor": 0
      },
      "text/plain": [
       "IntProgress(value=0, max=27616)"
      ]
     },
     "metadata": {},
     "output_type": "display_data"
    },
    {
     "data": {
      "application/vnd.jupyter.widget-view+json": {
       "model_id": "1167e5ed24824ebead1bf5a57a4ab445",
       "version_major": 2,
       "version_minor": 0
      },
      "text/plain": [
       "IntProgress(value=0, max=27616)"
      ]
     },
     "metadata": {},
     "output_type": "display_data"
    },
    {
     "name": "stdout",
     "output_type": "stream",
     "text": [
      "STATIC STATS IMPORTED\n",
      "\n",
      "FIXING SURNAMES...\n"
     ]
    },
    {
     "data": {
      "application/vnd.jupyter.widget-view+json": {
       "model_id": "8bac6db60174429bade7929163efb588",
       "version_major": 2,
       "version_minor": 0
      },
      "text/plain": [
       "IntProgress(value=0, max=27616)"
      ]
     },
     "metadata": {},
     "output_type": "display_data"
    },
    {
     "name": "stdout",
     "output_type": "stream",
     "text": [
      "SURNAMES FIXED\n",
      "\n",
      "CREATING STAT RETIREMENT...\n"
     ]
    },
    {
     "data": {
      "application/vnd.jupyter.widget-view+json": {
       "model_id": "7c701a91525e4fec89e172e9a0eec0b1",
       "version_major": 2,
       "version_minor": 0
      },
      "text/plain": [
       "IntProgress(value=0, max=1179)"
      ]
     },
     "metadata": {},
     "output_type": "display_data"
    },
    {
     "ename": "KeyboardInterrupt",
     "evalue": "",
     "output_type": "error",
     "traceback": [
      "\u001b[0;31m---------------------------------------------------------------------------\u001b[0m",
      "\u001b[0;31mKeyboardInterrupt\u001b[0m                         Traceback (most recent call last)",
      "\u001b[0;32m<ipython-input-37-05d7815ca072>\u001b[0m in \u001b[0;36m<module>\u001b[0;34m\u001b[0m\n\u001b[1;32m     22\u001b[0m \u001b[0;34m\u001b[0m\u001b[0m\n\u001b[1;32m     23\u001b[0m \u001b[0;31m## create retirement stat\u001b[0m\u001b[0;34m\u001b[0m\u001b[0;34m\u001b[0m\u001b[0;34m\u001b[0m\u001b[0m\n\u001b[0;32m---> 24\u001b[0;31m \u001b[0mfe\u001b[0m\u001b[0;34m.\u001b[0m\u001b[0mcreate_retirement_stat\u001b[0m\u001b[0;34m(\u001b[0m\u001b[0mdf\u001b[0m\u001b[0;34m)\u001b[0m\u001b[0;34m\u001b[0m\u001b[0;34m\u001b[0m\u001b[0m\n\u001b[0m\u001b[1;32m     25\u001b[0m \u001b[0;34m\u001b[0m\u001b[0m\n\u001b[1;32m     26\u001b[0m \u001b[0;34m\u001b[0m\u001b[0m\n",
      "\u001b[0;32m~/Documents/GitHub/TMPrediction/Feature_Engineering.py\u001b[0m in \u001b[0;36mcreate_retirement_stat\u001b[0;34m(df)\u001b[0m\n\u001b[1;32m    243\u001b[0m             \u001b[0;32mif\u001b[0m \u001b[0mlen\u001b[0m\u001b[0;34m(\u001b[0m\u001b[0msubset\u001b[0m\u001b[0;34m)\u001b[0m \u001b[0;34m>\u001b[0m \u001b[0;36m1\u001b[0m\u001b[0;34m:\u001b[0m\u001b[0;34m\u001b[0m\u001b[0;34m\u001b[0m\u001b[0m\n\u001b[1;32m    244\u001b[0m                 \u001b[0mplayer1\u001b[0m \u001b[0;34m=\u001b[0m \u001b[0mlist\u001b[0m\u001b[0;34m(\u001b[0m\u001b[0msubset\u001b[0m\u001b[0;34m[\u001b[0m\u001b[0;34m'player1'\u001b[0m\u001b[0;34m]\u001b[0m\u001b[0;34m)\u001b[0m\u001b[0;34m\u001b[0m\u001b[0;34m\u001b[0m\u001b[0m\n\u001b[0;32m--> 245\u001b[0;31m                 \u001b[0mstatus\u001b[0m \u001b[0;34m=\u001b[0m \u001b[0mlist\u001b[0m\u001b[0;34m(\u001b[0m\u001b[0msubset\u001b[0m\u001b[0;34m[\u001b[0m\u001b[0;34m'status'\u001b[0m\u001b[0;34m]\u001b[0m\u001b[0;34m)\u001b[0m\u001b[0;34m\u001b[0m\u001b[0;34m\u001b[0m\u001b[0m\n\u001b[0m\u001b[1;32m    246\u001b[0m                 \u001b[0mplayer2\u001b[0m \u001b[0;34m=\u001b[0m \u001b[0mlist\u001b[0m\u001b[0;34m(\u001b[0m\u001b[0msubset\u001b[0m\u001b[0;34m[\u001b[0m\u001b[0;34m'player2'\u001b[0m\u001b[0;34m]\u001b[0m\u001b[0;34m)\u001b[0m\u001b[0;34m\u001b[0m\u001b[0;34m\u001b[0m\u001b[0m\n\u001b[1;32m    247\u001b[0m                 \u001b[0mfl\u001b[0m \u001b[0;34m=\u001b[0m \u001b[0mlist\u001b[0m\u001b[0;34m(\u001b[0m\u001b[0msubset\u001b[0m\u001b[0;34m[\u001b[0m\u001b[0;34m'player1_win'\u001b[0m\u001b[0;34m]\u001b[0m\u001b[0;34m)\u001b[0m\u001b[0;34m\u001b[0m\u001b[0;34m\u001b[0m\u001b[0m\n",
      "\u001b[0;31mKeyboardInterrupt\u001b[0m: "
     ]
    }
   ],
   "source": [
    "## READ DATA\n",
    "df = pd.read_pickle('Data/matches_final.pkl') \n",
    "players1 = pd.read_pickle('Data/players.pkl')\n",
    "players2 = pd.read_pickle('Data/players.pkl')\n",
    "\n",
    "## CHANGE TIME TYPE\n",
    "fe.fix_time(df)\n",
    "\n",
    "## fix players' names for transporting stats\n",
    "fe.fix_names1(players1)\n",
    "fe.fix_names2(players2)\n",
    "players1 = players1.set_index(['name'])\n",
    "players2 = players2.set_index(['name'])\n",
    "\n",
    "## transporting stats players --> dataframe\n",
    "fe.add_stats(df, players1)\n",
    "fe.add_stats(df, players2, 0)\n",
    "\n",
    "\n",
    "## fix letters in data\n",
    "fe.fix_letters(df)\n",
    "\n",
    "## create retirement stat\n",
    "fe.create_retirement_stat(df)\n",
    "\n",
    "\n",
    "## converting age to datetime\n",
    "fe.fix_age(df, 1)\n",
    "fe.fix_age(df, 2)\n",
    "\n",
    "\n",
    "\n",
    "## converting some stats to datetime in df for the next steps\n",
    "df['date'] = pd.to_datetime(df['date'])\n",
    "df['p1_birth'] = pd.to_datetime(df['p1_birth'])\n",
    "df['p2_birth'] = pd.to_datetime(df['p2_birth'])\n",
    "\n",
    "# count prc of winning points on return\n",
    "fe.create_feature_WRP(df)\n",
    "\n",
    "## normalize to per_game stats\n",
    "fe.create_aces_per_game(df)\n",
    "fe.create_double_faults_per_game(df)\n",
    "\n",
    "\n",
    "## create stats based on common opponents\n",
    "stats = ['first_serve_prc_match_player1', 'first_serve_points_prc_match_player1',\n",
    "         'second_serve_points_prc_match_player1', 'winning_on_return_prc_player1',\n",
    "        'aces_per_game_player1', 'df_per_game_player1', 'break_points_prc_match_player1']\n",
    "fe.create_common_stats(df, stats)\n",
    "\n",
    "\n",
    "## create new features\n",
    "fe.create_feature_WSP(df)\n",
    "fe.create_feature_COMPLETE(df)\n",
    "fe.create_feature_SERVEADV(df)\n",
    "\n",
    "# add invert matches\n",
    "df = fe.invert(df)\n",
    "\n",
    "## drop Nan stats\n",
    "df.dropna(subset=['p1_height'], inplace=True)\n",
    "df.dropna(subset=['p2_height'], inplace=True)\n",
    "df.dropna(subset=['p1_birth'], inplace=True)\n",
    "df.dropna(subset=['p2_birth'], inplace=True)\n",
    "df.dropna(subset=['k1'], inplace=True)\n",
    "df.dropna(subset=['k2'], inplace=True)\n",
    "\n",
    "# FIX SOME STATS' FORMAT\n",
    "df = fe.fix_format(df)\n",
    "\n",
    "# CREATE LAG FEATURES USING MAIN STATS\n",
    "df = fe.build_lag_features(df)\n",
    "\n",
    "\n",
    "df.rename(columns={\"player1\": \"p1\", \"player2\": \"p2\", \"player1_win\": \"p1_win\"}, inplace=True)\n",
    "df = df.set_index([\"date\", \"p1\", \"p2\"])\n",
    "\n",
    "df.head(3)"
   ]
  },
  {
   "cell_type": "markdown",
   "metadata": {},
   "source": [
    "## CREATE MODELS"
   ]
  },
  {
   "cell_type": "code",
   "execution_count": 2,
   "metadata": {},
   "outputs": [],
   "source": [
    "import Create_Models as cm"
   ]
  },
  {
   "cell_type": "code",
   "execution_count": 7,
   "metadata": {},
   "outputs": [],
   "source": [
    "df = pd.read_pickle('Data/all_features.pkl') ## для теста\n",
    "\n",
    "\n",
    "data = cm.create_data1(df)\n",
    "y_pred1 = cm.build_model_classifier(data, startdate='')\n",
    "data = cm.create_data2(df)\n",
    "y_pred2 = cm.build_model_classifier(data, startdate='')\n",
    "data = cm.create_data3(df)\n",
    "y_pred3 = cm.build_model_classifier(data, startdate='')"
   ]
  },
  {
   "cell_type": "code",
   "execution_count": null,
   "metadata": {},
   "outputs": [],
   "source": []
  },
  {
   "cell_type": "code",
   "execution_count": null,
   "metadata": {},
   "outputs": [],
   "source": []
  },
  {
   "cell_type": "code",
   "execution_count": null,
   "metadata": {},
   "outputs": [],
   "source": []
  },
  {
   "cell_type": "code",
   "execution_count": 11,
   "metadata": {},
   "outputs": [],
   "source": [
    "## IAN: 2021-01-01 - 2021-03-01 // EGOR: 2021-03-01 - 2021-05-21"
   ]
  }
 ],
 "metadata": {
  "kernelspec": {
   "display_name": "Python 3",
   "language": "python",
   "name": "python3"
  },
  "language_info": {
   "codemirror_mode": {
    "name": "ipython",
    "version": 3
   },
   "file_extension": ".py",
   "mimetype": "text/x-python",
   "name": "python",
   "nbconvert_exporter": "python",
   "pygments_lexer": "ipython3",
   "version": "3.7.3"
  }
 },
 "nbformat": 4,
 "nbformat_minor": 2
}
