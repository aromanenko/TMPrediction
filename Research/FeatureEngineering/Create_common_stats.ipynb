{
 "cells": [
  {
   "cell_type": "code",
   "execution_count": null,
   "metadata": {},
   "outputs": [],
   "source": [
    "def create_common_stats(df, stats):\n",
    "    for stat in stats:\n",
    "        print(\"CREATING STAT {0}_common...\".format(stat.replace('player1', '')))\n",
    "        arr1 = [np.nan for x in range(len(df))]\n",
    "        arr2 = [np.nan for x in range(len(df))]\n",
    "        stat_p1 = stat\n",
    "        stat_p2 = stat.replace('1', '2')\n",
    "        df_dropped = df[(df[stat_p1] == df[stat_p1])] ## df after dropping Nan\n",
    "        \n",
    "        progress = IntProgress(min=0, max=len(df_dropped), value=0)\n",
    "        display(progress)\n",
    "        \n",
    "        for i in range(len(df_dropped)):\n",
    "            df_tmp = df_dropped[df_dropped['date'] <= list(df_dropped['date'])[i]]\n",
    "            players_p1 = set(df_tmp[df_tmp['player1'] == (list(df_tmp['player1'])[i])]['player2']) | set(df_tmp[df_tmp['player2'] == (list(df_tmp['player1'])[i])]['player1'])\n",
    "            players_p2 = set(df_tmp[df_tmp['player1'] == (list(df_tmp['player2'])[i])]['player2']) | set(df_tmp[df_tmp['player2'] == (list(df_tmp['player2'])[i])]['player1'])\n",
    "            common_players = players_p1 & players_p2 ## common opponents\n",
    "            wrp1 = 0\n",
    "            wrp1_cnt = 0\n",
    "            wrp2 = 0\n",
    "            wrp2_cnt = 0\n",
    "            for p in common_players:\n",
    "                wrp1 += df_tmp[(df_tmp['player1'] == list(df_tmp['player1'])[i]) & (df_tmp['player2'] == p)][stat_p1].sum()\n",
    "                wrp1_cnt += len(df_tmp[(df_tmp['player1'] == list(df_tmp['player1'])[i]) & (df_tmp['player2'] == p)])\n",
    "                wrp1 += df_tmp[(df_tmp['player2'] == list(df_tmp['player1'])[i]) & (df_tmp['player1'] == p)][stat_p2].sum()\n",
    "                wrp1_cnt += len(df_tmp[(df_tmp['player2'] == list(df_tmp['player1'])[i]) & (df_tmp['player1'] == p)])\n",
    "\n",
    "                wrp2 += df_tmp[(df_tmp['player1'] == list(df_tmp['player2'])[i]) & (df_tmp['player2'] == p)][stat_p1].sum()\n",
    "                wrp2_cnt += len(df_tmp[(df_tmp['player1'] == list(df_tmp['player2'])[i]) & (df_tmp['player2'] == p)])\n",
    "                wrp2 += df_tmp[(df_tmp['player2'] == list(df_tmp['player2'])[i]) & (df_tmp['player1'] == p)][stat_p2].sum()\n",
    "                wrp2_cnt += len(df_tmp[(df_tmp['player2'] == list(df_tmp['player2'])[i]) & (df_tmp['player1'] == p)])\n",
    "            if (wrp1_cnt != 0):\n",
    "                wrp1 /= wrp1_cnt\n",
    "                wrp2 /= wrp2_cnt\n",
    "                arr1[df_tmp['player1'].index[i]] = wrp1\n",
    "                arr2[df_tmp['player2'].index[i]] = wrp2\n",
    "            \n",
    "            ## Progress fill\n",
    "            if (i % 10 == 0):\n",
    "                progress.value = i\n",
    "\n",
    "        print(\"STAT {0}common CREATED\".format(stat.replace('player1', '')))\n",
    "        df[stat_p1.replace('player1', '') + 'common_player1'] = arr1\n",
    "        df[stat_p2.replace('player2', '') + 'common_player2'] = arr2"
   ]
  }
 ],
 "metadata": {
  "kernelspec": {
   "display_name": "Python 3",
   "language": "python",
   "name": "python3"
  },
  "language_info": {
   "codemirror_mode": {
    "name": "ipython",
    "version": 3
   },
   "file_extension": ".py",
   "mimetype": "text/x-python",
   "name": "python",
   "nbconvert_exporter": "python",
   "pygments_lexer": "ipython3",
   "version": "3.7.3"
  }
 },
 "nbformat": 4,
 "nbformat_minor": 2
}
