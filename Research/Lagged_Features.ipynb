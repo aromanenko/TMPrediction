{
 "cells": [
  {
   "cell_type": "code",
   "execution_count": null,
   "metadata": {},
   "outputs": [],
   "source": [
    "def lagged_features(df\n",
    "    ,target_var = ['aces_match_player1']\n",
    "    , lags = [1]\n",
    "    , windows = [28]\n",
    "    , aggregation_methods = {'mean', 'median', percentile(10), percentile(90)}\n",
    "    , surface_type_filter = [1, -1]):\n",
    "    ## with no surface type filter\n",
    "    players = ['player1', 'player2']\n",
    "    df = df.reset_index()\n",
    "    for p in players:\n",
    "        if -1 in surface_type_filter:\n",
    "            for l, w, t in product(lags, windows, target_var):\n",
    "                t1 = t\n",
    "                if p == 'player2':\n",
    "                    t1 = t1.replace(\"player1\", \"player2\")\n",
    "                lf_df = df.set_index(['player1', 'player2', 'date'])[t1].\\\n",
    "                         groupby(level=p).apply(lambda x: x.rolling(window=w, min_periods = 1).agg(aggregation_methods).shift(l))\n",
    "                t1 = t1.replace(\"player1\", \"\").replace(\"player2\", \"\")\n",
    "                new_names = {x: \"{0}_lag_{1}_{2}_{3}_{4}\".\n",
    "                              format(p.replace(\"player\", \"p\"), l, t1, x, w) for x in lf_df.columns}\n",
    "\n",
    "                df = df.merge(lf_df.reset_index().rename(columns = new_names),\n",
    "                    how='left', on =['player1', 'player2', 'date'] )\n",
    "        ## with surface type filter\n",
    "        if 1 in surface_type_filter:\n",
    "            for l, w, t in product(lags, windows, target_var):\n",
    "                t1 = t\n",
    "                if p == 'player2':\n",
    "                    t1 = t1.replace(\"player1\", \"player2\")\n",
    "                df.head()\n",
    "                lf_df = df.set_index(['player1', 'player2', 'date', 'Surface'])[t1].\\\n",
    "                         groupby(level=[p, 'Surface']).apply(lambda x: x.rolling(window=w, min_periods = 1).agg(aggregation_methods).shift(l))\n",
    "                t1 = t1.replace(\"player1\", \"\").replace(\"player2\", \"\")\n",
    "                new_names = {x: \"{0}_filter_lag_{1}_{2}_{3}_{4}\".\n",
    "                              format(p.replace(\"player\", \"p\"), l, t1, x, w) for x in lf_df.columns}\n",
    "\n",
    "                df = df.merge(lf_df.reset_index().rename(columns = new_names),\n",
    "                    how='left', on =['player1', 'player2', 'date', 'Surface'])\n",
    "    return df\n"
   ]
  }
 ],
 "metadata": {
  "kernelspec": {
   "display_name": "Python 3",
   "language": "python",
   "name": "python3"
  },
  "language_info": {
   "codemirror_mode": {
    "name": "ipython",
    "version": 3
   },
   "file_extension": ".py",
   "mimetype": "text/x-python",
   "name": "python",
   "nbconvert_exporter": "python",
   "pygments_lexer": "ipython3",
   "version": "3.7.3"
  }
 },
 "nbformat": 4,
 "nbformat_minor": 2
}
