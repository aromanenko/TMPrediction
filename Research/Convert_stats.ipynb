{
 "cells": [
  {
   "cell_type": "code",
   "execution_count": null,
   "metadata": {},
   "outputs": [],
   "source": [
    "def create_srv_games(matches):\n",
    "    for i in range(len(matches)):\n",
    "        cnt_p1 = 0\n",
    "        cnt_p2 = 0\n",
    "        if matches[i]['serving_idxs'] != '':\n",
    "            idxs = ast.literal_eval(matches[i]['serving_idxs'])\n",
    "            for x in idxs.values():\n",
    "                cnt_p1 += x.count(1)\n",
    "                cnt_p2 += x.count(0)\n",
    "            matches[i]['srv_games_player1'] = cnt_p1\n",
    "            matches[i]['srv_games_player2'] = cnt_p2\n",
    "        else:\n",
    "            matches[i]['srv_games_player1'] = None\n",
    "            matches[i]['srv_games_player2'] = None\n",
    "            \n",
    "def create_aces_per_game(df):\n",
    "    df['total_score_match_player1'] = df['score_set1_player1'].fillna(0)\n",
    "    df['total_score_match_player2'] = df['score_set1_player2'].fillna(0)\n",
    "    for x in range(2, 6):\n",
    "        df['total_score_match_player1'] += df['score_set{0}_player1'.format(x)].fillna(0)\n",
    "        df['total_score_match_player2'] += df['score_set{0}_player2'.format(x)].fillna(0)\n",
    "    df['aces_per_game_player1'] = df['aces_match_player1'] / df['srv_games_player1']\n",
    "    df['aces_per_game_player2'] = df['aces_match_player2'] / df['srv_games_player2']\n",
    "    \n",
    "    \n",
    "def create_double_faults_per_game(df):\n",
    "    df['df_per_game_player1'] = df['double_faults_match_player1'] / df['srv_games_player1']\n",
    "    df['df_per_game_player2'] = df['double_faults_match_player2'] / df['srv_games_player2']"
   ]
  }
 ],
 "metadata": {
  "kernelspec": {
   "display_name": "Python 3",
   "language": "python",
   "name": "python3"
  },
  "language_info": {
   "codemirror_mode": {
    "name": "ipython",
    "version": 3
   },
   "file_extension": ".py",
   "mimetype": "text/x-python",
   "name": "python",
   "nbconvert_exporter": "python",
   "pygments_lexer": "ipython3",
   "version": "3.7.3"
  }
 },
 "nbformat": 4,
 "nbformat_minor": 2
}
